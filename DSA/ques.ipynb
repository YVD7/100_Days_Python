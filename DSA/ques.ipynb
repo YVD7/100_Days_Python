{
 "cells": [
  {
   "cell_type": "markdown",
   "metadata": {},
   "source": [
    "# Queues\n",
    "    In this we use first in first out formula FIFO"
   ]
  },
  {
   "cell_type": "markdown",
   "metadata": {},
   "source": [
    "### Adding the elements"
   ]
  },
  {
   "cell_type": "code",
   "execution_count": null,
   "metadata": {},
   "outputs": [],
   "source": [
    "# create Queue\n",
    "\n",
    "class Node:\n",
    "    def __init__(self, value=None)  :\n",
    "        self.value = value\n",
    "        self.next = None\n",
    "\n",
    "    def __str__(self):\n",
    "        return str(self.value)\n",
    "    \n",
    "class Linkedlist:\n",
    "    def __init__(self):\n",
    "        self.head = None    \n",
    "        self.tail = None\n",
    "\n",
    "    def __iter__(self):\n",
    "        curNode = self.head\n",
    "        while curNode:\n",
    "            yield curNode\n",
    "            curNode = curNode.next\n",
    "\n",
    "class Queue:\n",
    "    def __init__(self):\n",
    "        self.linkedlist = Linkedlist()\n",
    "\n",
    "    def __str__(self):\n",
    "        values = [str(x) for x in self.linkedlist]\n",
    "        return ' '.join(values)\n",
    "    \n",
    "    def enqueue(self, value):\n",
    "        newNode = Node(value)\n",
    "        if self.linkedlist.head == None:\n",
    "            self.linkedlist.head = newNode\n",
    "            self.linkedlist.tail = newNode\n",
    "        else:\n",
    "            self.linkedlist.tail.next = newNode\n",
    "            self.linkedlist.tail = newNode"
   ]
  },
  {
   "cell_type": "code",
   "execution_count": 3,
   "metadata": {},
   "outputs": [
    {
     "name": "stdout",
     "output_type": "stream",
     "text": [
      "3\n"
     ]
    }
   ],
   "source": [
    "class Queue:\n",
    "    def __init__(self):\n",
    "        self.queue = list() # creating queue by using list function\n",
    "\n",
    "    def addtop(self, dataval): # creating addtop function where we add value\n",
    "        if dataval not in self.queue:\n",
    "            self.queue.insert(0, dataval) # adding the value\n",
    "            return True\n",
    "        else:\n",
    "            return False\n",
    "        \n",
    "    def size(self): # now taking the size \n",
    "        return len(self.queue) # calculating size of the Queue\n",
    "    \n",
    "# Driver function\n",
    "TheQueue = Queue()\n",
    "TheQueue.addtop(\"Mon\")\n",
    "TheQueue.addtop(\"Tue\")\n",
    "TheQueue.addtop(\"Wed\")\n",
    "\n",
    "print(TheQueue.size())"
   ]
  },
  {
   "cell_type": "markdown",
   "metadata": {},
   "source": [
    "### Removing the element"
   ]
  },
  {
   "cell_type": "code",
   "execution_count": 4,
   "metadata": {},
   "outputs": [
    {
     "name": "stdout",
     "output_type": "stream",
     "text": [
      "Mon\n",
      "Tue\n"
     ]
    }
   ],
   "source": [
    "class Queue:\n",
    "    def __init__(self):\n",
    "        self.queue = list() # here we created queue using list\n",
    "\n",
    "    def addtop(self, dataval):\n",
    "        if dataval not in self.queue:\n",
    "            self.queue.insert(0, dataval)\n",
    "            return True\n",
    "        return False\n",
    "    \n",
    "    def remove(self):\n",
    "        if len(self.queue) > 0:\n",
    "            return self.queue.pop()\n",
    "        return (\"No elements in Queue!\")\n",
    "    \n",
    "TheQueue = Queue()\n",
    "TheQueue.addtop(\"Mon\")\n",
    "TheQueue.addtop(\"Tue\")\n",
    "TheQueue.addtop(\"Wed\")\n",
    "print(TheQueue.remove())\n",
    "print(TheQueue.remove())"
   ]
  },
  {
   "cell_type": "markdown",
   "metadata": {},
   "source": [
    "# Dqueue"
   ]
  },
  {
   "cell_type": "markdown",
   "metadata": {},
   "source": [
    "- adding as well as removing the data"
   ]
  },
  {
   "cell_type": "code",
   "execution_count": 5,
   "metadata": {},
   "outputs": [
    {
     "name": "stdout",
     "output_type": "stream",
     "text": [
      "Append at right - \n",
      "deque(['Mon', 'Tue', 'Wed', 'Thu'])\n",
      "Appended at right at left is - \n",
      "deque(['Sun', 'Mon', 'Tue', 'Wed', 'Thu'])\n",
      "Deleting from right - \n",
      "deque(['Sun', 'Mon', 'Tue', 'Wed'])\n",
      "Deleting from left - \n",
      "deque(['Mon', 'Tue', 'Wed'])\n"
     ]
    }
   ],
   "source": [
    "import collections\n",
    "\n",
    "DoubleEnded = collections.deque([\"Mon\", \"Tue\", \"Wed\"])\n",
    "DoubleEnded.append(\"Thu\")\n",
    "\n",
    "print(\"Append at right - \")\n",
    "print(DoubleEnded)\n",
    "\n",
    "DoubleEnded.appendleft(\"Sun\")\n",
    "print(\"Appended at right at left is - \")\n",
    "print(DoubleEnded)\n",
    "\n",
    "DoubleEnded.pop()\n",
    "print(\"Deleting from right - \")\n",
    "print(DoubleEnded)\n",
    "\n",
    "DoubleEnded.popleft()\n",
    "print(\"Deleting from left - \")\n",
    "print(DoubleEnded)"
   ]
  },
  {
   "cell_type": "code",
   "execution_count": null,
   "metadata": {},
   "outputs": [],
   "source": []
  }
 ],
 "metadata": {
  "kernelspec": {
   "display_name": "Python 3",
   "language": "python",
   "name": "python3"
  },
  "language_info": {
   "codemirror_mode": {
    "name": "ipython",
    "version": 3
   },
   "file_extension": ".py",
   "mimetype": "text/x-python",
   "name": "python",
   "nbconvert_exporter": "python",
   "pygments_lexer": "ipython3",
   "version": "3.12.0"
  }
 },
 "nbformat": 4,
 "nbformat_minor": 2
}
