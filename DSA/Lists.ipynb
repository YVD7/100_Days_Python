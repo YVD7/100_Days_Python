{
 "cells": [
  {
   "cell_type": "markdown",
   "metadata": {},
   "source": [
    "# LIST"
   ]
  },
  {
   "cell_type": "markdown",
   "metadata": {},
   "source": [
    "Basic List Operations\n",
    "\n",
    "list repsoind `\" + \" for concatinate` and `\" * \" for repetation` operators.\n",
    "\n",
    "- length ( len() )\n",
    "- Concatination ( + )\n",
    "- repetation ( * )\n",
    "- Membership ( 2 in [1,2,3] >>> True)\n",
    "- iteration ( for x in [1,2,3]: print(x))"
   ]
  },
  {
   "cell_type": "code",
   "execution_count": 17,
   "metadata": {},
   "outputs": [
    {
     "name": "stdout",
     "output_type": "stream",
     "text": [
      "['physics', 'chemistry', 1997, 2000]\n",
      "[1, 2, 3, 4, 5, 6]\n",
      "['a', 'b', 'c', 'd']\n"
     ]
    }
   ],
   "source": [
    "list1= ['physics', 'chemistry', 1997, 2000]\n",
    "list2 = [1,2,3,4,5,6]\n",
    "list3 = [\"a\", \"b\", \"c\", \"d\"]\n",
    "print(list1)\n",
    "print(list2)\n",
    "print(list3)"
   ]
  },
  {
   "cell_type": "markdown",
   "metadata": {},
   "source": [
    "### Accessing the value"
   ]
  },
  {
   "cell_type": "code",
   "execution_count": 18,
   "metadata": {},
   "outputs": [
    {
     "name": "stdout",
     "output_type": "stream",
     "text": [
      "list1[0] :  physics\n",
      "list2[1:3] :  [2, 3]\n"
     ]
    }
   ],
   "source": [
    "print(\"list1[0] : \", list1[0]) # using indexing \n",
    "print(\"list2[1:3] : \",list2[1:3]) # using slicing operation\n"
   ]
  },
  {
   "cell_type": "markdown",
   "metadata": {},
   "source": [
    "### Update operation"
   ]
  },
  {
   "cell_type": "code",
   "execution_count": 19,
   "metadata": {},
   "outputs": [
    {
     "name": "stdout",
     "output_type": "stream",
     "text": [
      "['physics', 'chemistry', 1997, 2000]\n",
      "Value avialable at index 2: \n",
      "1997\n",
      "New variable at index 2:\n",
      "2001\n"
     ]
    }
   ],
   "source": [
    "print(list1)\n",
    "print('Value avialable at index 2: ')\n",
    "print(list1[2])\n",
    "list1[2] = 2001 # update with index\n",
    "print(\"New variable at index 2:\")\n",
    "print(list1[2])\n"
   ]
  },
  {
   "cell_type": "markdown",
   "metadata": {},
   "source": [
    "### Delete operation"
   ]
  },
  {
   "cell_type": "code",
   "execution_count": 20,
   "metadata": {},
   "outputs": [
    {
     "name": "stdout",
     "output_type": "stream",
     "text": [
      "list1 :  ['physics', 'chemistry', 2001, 2000]\n",
      "after deletion \n",
      "list1: ['chemistry', 2001, 2000]\n"
     ]
    }
   ],
   "source": [
    "# using delete function \n",
    "print(\"list1 : \", list1)\n",
    "del list1[0] # delete function at 0 index position\n",
    "print(\"after deletion \\nlist1:\", list1)"
   ]
  },
  {
   "cell_type": "code",
   "execution_count": null,
   "metadata": {},
   "outputs": [],
   "source": []
  },
  {
   "cell_type": "code",
   "execution_count": null,
   "metadata": {},
   "outputs": [],
   "source": []
  }
 ],
 "metadata": {
  "kernelspec": {
   "display_name": "Python 3",
   "language": "python",
   "name": "python3"
  },
  "language_info": {
   "codemirror_mode": {
    "name": "ipython",
    "version": 3
   },
   "file_extension": ".py",
   "mimetype": "text/x-python",
   "name": "python",
   "nbconvert_exporter": "python",
   "pygments_lexer": "ipython3",
   "version": "3.10.0"
  },
  "orig_nbformat": 4
 },
 "nbformat": 4,
 "nbformat_minor": 2
}
