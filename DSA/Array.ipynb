{
 "cells": [
  {
   "cell_type": "markdown",
   "metadata": {},
   "source": [
    "# Array "
   ]
  },
  {
   "cell_type": "markdown",
   "metadata": {},
   "source": [
    "### Basic operation supported by an Array \n",
    "    - Traverse\n",
    "    - Insert\n",
    "    - Delete\n",
    "    - Search \n",
    "    - Update"
   ]
  },
  {
   "cell_type": "markdown",
   "metadata": {},
   "source": [
    "### Traversing the array"
   ]
  },
  {
   "cell_type": "code",
   "execution_count": 2,
   "metadata": {},
   "outputs": [
    {
     "name": "stdout",
     "output_type": "stream",
     "text": [
      "1\n",
      "2\n",
      "3\n",
      "4\n",
      "5\n",
      "6\n"
     ]
    }
   ],
   "source": [
    "from array import *\n",
    "arrayName = array('i', [1,2,3,4,5,6]) # writing array\n",
    "\n",
    "for x in arrayName:\n",
    "    print(x)"
   ]
  },
  {
   "cell_type": "code",
   "execution_count": 4,
   "metadata": {},
   "outputs": [
    {
     "name": "stdout",
     "output_type": "stream",
     "text": [
      "10\n",
      "40\n"
     ]
    }
   ],
   "source": [
    "# accessing array element by index\n",
    "\n",
    "from array import *\n",
    "\n",
    "array1 = array('i',[10,20,30,40,50])\n",
    "\n",
    "print(array1[0]) # accsing by index 0 position\n",
    "\n",
    "print(array1[3]) # accesing the value on 3rd position"
   ]
  },
  {
   "cell_type": "markdown",
   "metadata": {},
   "source": [
    "### Insertation Operation"
   ]
  },
  {
   "cell_type": "code",
   "execution_count": 7,
   "metadata": {},
   "outputs": [
    {
     "name": "stdout",
     "output_type": "stream",
     "text": [
      "10\n",
      "60\n",
      "20\n",
      "30\n",
      "40\n",
      "50\n"
     ]
    }
   ],
   "source": [
    "# insert operation is to element at begining to array.\n",
    "\n",
    "from array import *\n",
    "\n",
    "array1 = array('i', [10, 20, 30, 40, 50])\n",
    "\n",
    "array1.insert(1, 60) # inserting the element 60 at index 1 between the other elements in array\n",
    "\n",
    "for x in array1:\n",
    "    print(x)"
   ]
  },
  {
   "cell_type": "markdown",
   "metadata": {},
   "source": [
    "### Deletion operation"
   ]
  },
  {
   "cell_type": "code",
   "execution_count": 9,
   "metadata": {},
   "outputs": [
    {
     "name": "stdout",
     "output_type": "stream",
     "text": [
      "10\n",
      "20\n",
      "30\n",
      "50\n"
     ]
    }
   ],
   "source": [
    "# deleting the element from the array.\n",
    "# To delete the element from array we use remove function \n",
    "\n",
    "from array import *\n",
    "\n",
    "array1 = array('i', [10, 20, 30, 40, 50])\n",
    "\n",
    "array1.remove(40) # deleting the element \n",
    "\n",
    "for x in array1:\n",
    "    print(x)"
   ]
  },
  {
   "cell_type": "markdown",
   "metadata": {},
   "source": [
    "### Search Operation"
   ]
  },
  {
   "cell_type": "code",
   "execution_count": 13,
   "metadata": {},
   "outputs": [
    {
     "name": "stdout",
     "output_type": "stream",
     "text": [
      "10\n",
      "1\n"
     ]
    }
   ],
   "source": [
    "# Search the element based on indexing value\n",
    "\n",
    "from array import *\n",
    "\n",
    "array1 = array('i', [10, 20, 30, 40, 50])\n",
    "\n",
    "print(array1[0]) # search based on index\n",
    "print(array1.index(20)) # search based on element"
   ]
  },
  {
   "cell_type": "markdown",
   "metadata": {},
   "source": [
    "### Update Operation"
   ]
  },
  {
   "cell_type": "code",
   "execution_count": 14,
   "metadata": {},
   "outputs": [
    {
     "name": "stdout",
     "output_type": "stream",
     "text": [
      "10\n",
      "90\n",
      "30\n",
      "40\n",
      "50\n"
     ]
    }
   ],
   "source": [
    "# So update operation perform to update element based on given index\n",
    "\n",
    "from array import *\n",
    "\n",
    "array1 = array('i', [10, 20, 30, 40, 50])\n",
    "\n",
    "array1[1] = 90 # updating the element based on given index\n",
    "\n",
    "for x in array1:\n",
    "    print(x)"
   ]
  },
  {
   "cell_type": "markdown",
   "metadata": {},
   "source": [
    "# 2D Array"
   ]
  },
  {
   "cell_type": "code",
   "execution_count": 1,
   "metadata": {},
   "outputs": [
    {
     "name": "stdout",
     "output_type": "stream",
     "text": [
      "[11, 12, 5, 2]\n",
      "94\n"
     ]
    }
   ],
   "source": [
    "from array import *\n",
    "\n",
    "T = [[11, 12, 5, 2], [15, 15, 94, 8], [10, 54, 40, 4], [2, 4, 7, 0]]\n",
    "\n",
    "print(T[0])\n",
    "\n",
    "print(T[1][2])"
   ]
  },
  {
   "cell_type": "code",
   "execution_count": 3,
   "metadata": {},
   "outputs": [
    {
     "name": "stdout",
     "output_type": "stream",
     "text": [
      "11 12 5 2 \n",
      "15 15 94 8 \n",
      "10 54 40 4 \n",
      "2 4 7 0 \n"
     ]
    }
   ],
   "source": [
    "from array import *\n",
    "\n",
    "T = [[11, 12, 5, 2], [15, 15, 94, 8], [10, 54, 40, 4], [2, 4, 7, 0]]\n",
    "\n",
    "for r in T:\n",
    "    for c in r:\n",
    "        print(c, end = \" \")\n",
    "    print()"
   ]
  },
  {
   "cell_type": "markdown",
   "metadata": {},
   "source": [
    "Inserting values"
   ]
  },
  {
   "cell_type": "code",
   "execution_count": 4,
   "metadata": {},
   "outputs": [
    {
     "name": "stdout",
     "output_type": "stream",
     "text": [
      "11 12 5 2 \n",
      "15 15 94 8 \n",
      "0 40 4 12 9 \n",
      "10 54 40 4 \n",
      "2 4 7 0 \n"
     ]
    }
   ],
   "source": [
    "T.insert(2, [0, 40, 4, 12, 9])\n",
    "for r in T:\n",
    "    for c in r:\n",
    "        print(c, end = \" \")\n",
    "    print()"
   ]
  },
  {
   "cell_type": "markdown",
   "metadata": {},
   "source": [
    "Updating values"
   ]
  },
  {
   "cell_type": "code",
   "execution_count": 5,
   "metadata": {},
   "outputs": [
    {
     "name": "stdout",
     "output_type": "stream",
     "text": [
      "11 12 8 2 \n",
      "15 15 94 8 \n",
      "11 9 \n",
      "10 54 40 4 \n",
      "2 4 7 0 \n"
     ]
    }
   ],
   "source": [
    "T[2] =  [11, 9]\n",
    "T[0][2] = 8\n",
    "\n",
    "for r in T:\n",
    "    for c in r:\n",
    "        print(c, end = \" \")\n",
    "    print()"
   ]
  },
  {
   "cell_type": "markdown",
   "metadata": {},
   "source": [
    "Deleting Values"
   ]
  },
  {
   "cell_type": "code",
   "execution_count": 6,
   "metadata": {},
   "outputs": [
    {
     "name": "stdout",
     "output_type": "stream",
     "text": [
      "11 12 5 2 \n",
      "15 6 10 \n",
      "10 8 12 5 \n"
     ]
    }
   ],
   "source": [
    "from array import *\n",
    "T = [[11, 12, 5, 2], [15, 6,10], [10, 8, 12, 5], [12,15,8,6]]\n",
    "\n",
    "del T[3]\n",
    "\n",
    "for r in T:\n",
    "    for c in r:\n",
    "        print(c, end = \" \")\n",
    "    print()"
   ]
  },
  {
   "cell_type": "markdown",
   "metadata": {},
   "source": [
    "# Revision array\n",
    "\n",
    "* array is nothing but the collection of the elements it is always in continuous line\n",
    "\n",
    "* Their are differenet types of arrays 1D, 2D, N diamensional arrays\n",
    "\n",
    "* one thing to note that all types of array are alocated in the memeory in one line in cotinuous manner\n",
    "\n",
    "* so basically in array you can provide only one data type at time while inserting an element.\n",
    "\n",
    "* so basically their are one library called array the we can import and another type is that numpy module by using numpy module also we can use array\n",
    "\n",
    "* common operations \n",
    "    - inserting.\n",
    "    - traversing\n",
    "    - accessing the element\n",
    "    - searching , sorting the element\n",
    "    - deleting the element"
   ]
  },
  {
   "cell_type": "code",
   "execution_count": 2,
   "metadata": {},
   "outputs": [
    {
     "name": "stdout",
     "output_type": "stream",
     "text": [
      "array('i')\n",
      "array('i', [1, 2, 3, 4])\n"
     ]
    }
   ],
   "source": [
    "# How can we create an array in python\n",
    "\n",
    "import array\n",
    "\n",
    "\n",
    "my_array = array.array('i')\n",
    "print(my_array)\n",
    "\n",
    "my_array1 = array.array('i', [1,2,3,4])\n",
    "print(my_array1)"
   ]
  },
  {
   "cell_type": "code",
   "execution_count": 6,
   "metadata": {},
   "outputs": [
    {
     "name": "stdout",
     "output_type": "stream",
     "text": [
      "[]\n",
      "[1 2 3 4]\n"
     ]
    }
   ],
   "source": [
    "# anthoer way to use array by using numpy module\n",
    "\n",
    "import numpy as np\n",
    "\n",
    "np_array = np.array([], dtype=int)\n",
    "print(np_array)\n",
    "\n",
    "np_array1 = np.array([1,2,3,4])\n",
    "print(np_array1)"
   ]
  },
  {
   "cell_type": "code",
   "execution_count": 2,
   "metadata": {},
   "outputs": [
    {
     "name": "stdout",
     "output_type": "stream",
     "text": [
      "array('i', [1, 2, 3, 4])\n",
      "array('i', [6, 1, 2, 3, 4])\n"
     ]
    }
   ],
   "source": [
    "# insertation method\n",
    "\n",
    "import array\n",
    "\n",
    "my_array = array.array('i', [1,2,3,4])\n",
    "print(my_array)\n",
    "\n",
    "my_array.insert(0, 6)\n",
    "print(my_array)"
   ]
  },
  {
   "cell_type": "code",
   "execution_count": 10,
   "metadata": {},
   "outputs": [
    {
     "name": "stdout",
     "output_type": "stream",
     "text": [
      "6\n",
      "array('i', [1, 2, 3, 4, 5, 6])\n",
      "array('i', [2, 3, 4, 5, 6])\n"
     ]
    }
   ],
   "source": [
    "# array traversal\n",
    "\n",
    "from array import *\n",
    "\n",
    "arr1 = array('i', [1,2,3,4,5,6])\n",
    "arr2 = array('d', [1.3, 1.2, 1.7])\n",
    "\n",
    "# arr1.insert(2, 9)\n",
    "# print(arr1)\n",
    "\n",
    "def traverseArray(array):\n",
    "    for i in array:\n",
    "        print(i)\n",
    "\n",
    "# traverseArray(arr1)\n",
    "\n",
    "# accessing the element of an array\n",
    "\n",
    "def accessElement(array, index):\n",
    "    if index > len(array):\n",
    "        print('there is not an element in this index')\n",
    "    else:\n",
    "        print(array[index])\n",
    "\n",
    "accessElement(arr1, 5)\n",
    "\n",
    "# searching elemennt\n",
    "def linearSearch(arr, target):\n",
    "    for i in range(len(arr)):\n",
    "        if arr[i] == target:\n",
    "            return i\n",
    "        \n",
    "    return -1\n",
    "\n",
    "# print(linearSearch(arr1, 5))\n",
    "\n",
    "# removing the element from the array\n",
    "print(arr1) # before removing\n",
    "arr1.remove(1)\n",
    "print(arr1) # after removing \n"
   ]
  },
  {
   "cell_type": "code",
   "execution_count": null,
   "metadata": {},
   "outputs": [],
   "source": []
  }
 ],
 "metadata": {
  "kernelspec": {
   "display_name": "Python 3",
   "language": "python",
   "name": "python3"
  },
  "language_info": {
   "codemirror_mode": {
    "name": "ipython",
    "version": 3
   },
   "file_extension": ".py",
   "mimetype": "text/x-python",
   "name": "python",
   "nbconvert_exporter": "python",
   "pygments_lexer": "ipython3",
   "version": "3.12.0"
  },
  "orig_nbformat": 4
 },
 "nbformat": 4,
 "nbformat_minor": 2
}
