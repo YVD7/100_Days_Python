{
 "cells": [
  {
   "cell_type": "markdown",
   "metadata": {},
   "source": [
    "# Tuples"
   ]
  },
  {
   "cell_type": "markdown",
   "metadata": {},
   "source": [
    "Basic Tuples Operations\n",
    "\n",
    "Tuples repsoind `\" + \" for concatinate` and `\" * \" for repetation` operators.\n",
    "\n",
    "- length ( len() )\n",
    "- Concatination ( + )\n",
    "- repetation ( * )\n",
    "- Membership ( 2 in [1,2,3] >>> True)\n",
    "- iteration ( for x in [1,2,3]: print(x))"
   ]
  },
  {
   "cell_type": "code",
   "execution_count": 1,
   "metadata": {},
   "outputs": [],
   "source": [
    "tup1 = ('physics', 'chemistry', 1997, 2000);\n",
    "tup2 = (1,2,3,4,5,6);\n",
    "tup3 = \"a\", \"b\", \"c\", \"d\", \"e\";"
   ]
  },
  {
   "cell_type": "markdown",
   "metadata": {},
   "source": [
    "Accessing values"
   ]
  },
  {
   "cell_type": "code",
   "execution_count": 3,
   "metadata": {},
   "outputs": [
    {
     "name": "stdout",
     "output_type": "stream",
     "text": [
      "tup1[0]:  physics\n",
      "tup2[1:4]:  (2, 3, 4)\n"
     ]
    }
   ],
   "source": [
    "print('tup1[0]: ',tup1[0]) # accesing value by index method\n",
    "print('tup2[1:4]: ', tup2[1:4]) # accesing values by slicing method"
   ]
  },
  {
   "cell_type": "markdown",
   "metadata": {},
   "source": [
    "Updating "
   ]
  },
  {
   "cell_type": "code",
   "execution_count": 4,
   "metadata": {},
   "outputs": [
    {
     "name": "stdout",
     "output_type": "stream",
     "text": [
      "(12, 34.55, 'abc', 'xyz')\n"
     ]
    }
   ],
   "source": [
    "tup1 = (12, 34.55)\n",
    "tup2 = ('abc', 'xyz')\n",
    "\n",
    "tup3 = tup1 + tup2 # concatination method update\n",
    "print(tup3)"
   ]
  },
  {
   "cell_type": "markdown",
   "metadata": {},
   "source": [
    "Delete tuple element"
   ]
  },
  {
   "cell_type": "code",
   "execution_count": 5,
   "metadata": {},
   "outputs": [
    {
     "name": "stdout",
     "output_type": "stream",
     "text": [
      "(12, 34.55)\n",
      "After deleting tup: \n"
     ]
    },
    {
     "ename": "NameError",
     "evalue": "name 'tup1' is not defined",
     "output_type": "error",
     "traceback": [
      "\u001b[1;31m---------------------------------------------------------------------------\u001b[0m",
      "\u001b[1;31mNameError\u001b[0m                                 Traceback (most recent call last)",
      "Cell \u001b[1;32mIn[5], line 4\u001b[0m\n\u001b[0;32m      2\u001b[0m \u001b[39mdel\u001b[39;00m tup1\n\u001b[0;32m      3\u001b[0m \u001b[39mprint\u001b[39m(\u001b[39m'\u001b[39m\u001b[39mAfter deleting tup: \u001b[39m\u001b[39m'\u001b[39m)\n\u001b[1;32m----> 4\u001b[0m \u001b[39mprint\u001b[39m(tup1)\n",
      "\u001b[1;31mNameError\u001b[0m: name 'tup1' is not defined"
     ]
    }
   ],
   "source": [
    "print(tup1)\n",
    "del tup1\n",
    "print('After deleting tup: ')\n",
    "print(tup1)"
   ]
  },
  {
   "cell_type": "code",
   "execution_count": null,
   "metadata": {},
   "outputs": [],
   "source": []
  }
 ],
 "metadata": {
  "kernelspec": {
   "display_name": "Python 3",
   "language": "python",
   "name": "python3"
  },
  "language_info": {
   "codemirror_mode": {
    "name": "ipython",
    "version": 3
   },
   "file_extension": ".py",
   "mimetype": "text/x-python",
   "name": "python",
   "nbconvert_exporter": "python",
   "pygments_lexer": "ipython3",
   "version": "3.10.0"
  },
  "orig_nbformat": 4
 },
 "nbformat": 4,
 "nbformat_minor": 2
}
