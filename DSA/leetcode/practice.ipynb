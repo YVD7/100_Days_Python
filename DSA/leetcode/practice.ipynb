{
 "cells": [
  {
   "cell_type": "code",
   "execution_count": 9,
   "metadata": {},
   "outputs": [
    {
     "name": "stdout",
     "output_type": "stream",
     "text": [
      "-1\n"
     ]
    }
   ],
   "source": [
    "# Q. Find the index of first occurence in the stirng\n",
    "\n",
    "class Solution:\n",
    "    def strStr(self, haystack: str, needle: str) -> int:\n",
    "        # for i, j in haystack, needle:\n",
    "        #     if haystack[i] == needle[j]:\n",
    "        #         print(0)\n",
    "        #     else:\n",
    "        #         print(-1)\n",
    "        return haystack.index(needle) if needle in haystack else -1\n",
    "\n",
    "\n",
    "if __name__==\"__main__\":\n",
    "    haystack = 'leetcode'\n",
    "    needle = 'leet0'\n",
    "    s = Solution()\n",
    "    print(s.strStr(haystack, needle))"
   ]
  },
  {
   "cell_type": "code",
   "execution_count": null,
   "metadata": {},
   "outputs": [],
   "source": []
  }
 ],
 "metadata": {
  "kernelspec": {
   "display_name": "Python 3",
   "language": "python",
   "name": "python3"
  },
  "language_info": {
   "codemirror_mode": {
    "name": "ipython",
    "version": 3
   },
   "file_extension": ".py",
   "mimetype": "text/x-python",
   "name": "python",
   "nbconvert_exporter": "python",
   "pygments_lexer": "ipython3",
   "version": "3.10.0"
  },
  "orig_nbformat": 4
 },
 "nbformat": 4,
 "nbformat_minor": 2
}
