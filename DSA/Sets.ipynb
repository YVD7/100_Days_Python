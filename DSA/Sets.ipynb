{
 "cells": [
  {
   "cell_type": "markdown",
   "metadata": {},
   "source": [
    "# Sets"
   ]
  },
  {
   "cell_type": "markdown",
   "metadata": {},
   "source": [
    "creating sets"
   ]
  },
  {
   "cell_type": "code",
   "execution_count": 1,
   "metadata": {},
   "outputs": [
    {
     "name": "stdout",
     "output_type": "stream",
     "text": [
      "{'Mon', 'Fri', 'Thu', 'Wed', 'Sat', 'Sun', 'Tue'}\n",
      "{'Feb', 'Mar', 'Jan'}\n",
      "{27, 21, 22}\n"
     ]
    }
   ],
   "source": [
    "Days = set([\"Mon\",\"Tue\",\"Wed\",\"Thu\",\"Fri\",\"Sat\",\"Sun\"])\n",
    "Months = {\"Jan\",\"Feb\",\"Mar\"}\n",
    "Dates = {21, 22, 27}\n",
    "\n",
    "print(Days)\n",
    "print(Months)\n",
    "print(Dates)"
   ]
  },
  {
   "cell_type": "code",
   "execution_count": 3,
   "metadata": {},
   "outputs": [
    {
     "name": "stdout",
     "output_type": "stream",
     "text": [
      "Mon\n",
      "Fri\n",
      "Thu\n",
      "Wed\n",
      "Sat\n",
      "Sun\n",
      "Tue\n"
     ]
    }
   ],
   "source": [
    "# Accessing the values in set\n",
    "# \"\"\"We cannot access the value in set individually as set is immutalble\"\"\"\n",
    "\n",
    "for d in Days:\n",
    "    print(d)"
   ]
  },
  {
   "cell_type": "code",
   "execution_count": 4,
   "metadata": {},
   "outputs": [
    {
     "name": "stdout",
     "output_type": "stream",
     "text": [
      "{'Mon', 'Fri', 'Thu', 'Wed', 'Sat', 'Sun', 'Tue'}\n"
     ]
    }
   ],
   "source": [
    "# Adding the item to set\n",
    "# We can add elements to a set by using add() method. Again as discussed there is no specified\n",
    "# index attached to the newly added element.\n",
    "\n",
    "Days = set([\"Mon\",\"Tue\",\"Wed\",\"Thu\",\"Fri\",\"Sat\"])\n",
    "\n",
    "Days.add(\"Sun\")\n",
    "print(Days)"
   ]
  },
  {
   "cell_type": "code",
   "execution_count": 5,
   "metadata": {},
   "outputs": [
    {
     "name": "stdout",
     "output_type": "stream",
     "text": [
      "{'Mon', 'Thu', 'Wed', 'Sat', 'Fir', 'Tue'}\n"
     ]
    }
   ],
   "source": [
    "# Removing the items from a set\n",
    "\n",
    "Days = set([\"Mon\", \"Tue\", \"Wed\", \"Thu\", \"Fir\", \"Sat\"])\n",
    "\n",
    "Days.discard(\"Sun\")\n",
    "print(Days)"
   ]
  },
  {
   "cell_type": "code",
   "execution_count": 6,
   "metadata": {},
   "outputs": [
    {
     "name": "stdout",
     "output_type": "stream",
     "text": [
      "{'Mon', 'Fri', 'Set', 'Thu', 'Wed', 'Sun', 'Tue'}\n"
     ]
    }
   ],
   "source": [
    "# Union of Sets\n",
    "\n",
    "DayA = set(['Mon', \"Tue\", \"Wed\"])\n",
    "DayB = set([\"Wed\", \"Thu\",\"Fri\",\"Set\",\"Sun\"])\n",
    "AllDays = DayA | DayB\n",
    "print(AllDays)"
   ]
  },
  {
   "cell_type": "code",
   "execution_count": 7,
   "metadata": {},
   "outputs": [
    {
     "name": "stdout",
     "output_type": "stream",
     "text": [
      "{'Wed'}\n"
     ]
    }
   ],
   "source": [
    "# Intersection of sets\n",
    "\n",
    "DaysA = set([\"Mon\",\"Tue\",\"Wed\"])\n",
    "DaysB = set([\"Wed\",\"Thu\",\"Fri\",\"Sat\",\"Sun\"])\n",
    "AllDays = DaysA & DaysB\n",
    "print(AllDays)"
   ]
  },
  {
   "cell_type": "code",
   "execution_count": 8,
   "metadata": {},
   "outputs": [
    {
     "name": "stdout",
     "output_type": "stream",
     "text": [
      "True\n",
      "True\n"
     ]
    }
   ],
   "source": [
    "# Compare set\n",
    "\n",
    "DaysA = set([\"Mon\", \"Tue\", \"Wed\"])\n",
    "DaysB = set([\"Mon\", \"Tue\", \"Wed\", \"Thu\", \"Fri\", \"Sat\", \"Sun\"])\n",
    "SubsetRes = DaysA <= DaysB\n",
    "SupersetRes = DaysB >= DaysA\n",
    "print(SubsetRes)\n",
    "print(SupersetRes)"
   ]
  },
  {
   "cell_type": "code",
   "execution_count": null,
   "metadata": {},
   "outputs": [],
   "source": []
  }
 ],
 "metadata": {
  "kernelspec": {
   "display_name": "Python 3",
   "language": "python",
   "name": "python3"
  },
  "language_info": {
   "codemirror_mode": {
    "name": "ipython",
    "version": 3
   },
   "file_extension": ".py",
   "mimetype": "text/x-python",
   "name": "python",
   "nbconvert_exporter": "python",
   "pygments_lexer": "ipython3",
   "version": "3.10.0"
  },
  "orig_nbformat": 4
 },
 "nbformat": 4,
 "nbformat_minor": 2
}
