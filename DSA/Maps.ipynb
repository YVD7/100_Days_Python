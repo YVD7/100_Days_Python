{
 "cells": [
  {
   "cell_type": "markdown",
   "metadata": {},
   "source": [
    "# Maps"
   ]
  },
  {
   "cell_type": "code",
   "execution_count": 2,
   "metadata": {},
   "outputs": [
    {
     "name": "stdout",
     "output_type": "stream",
     "text": [
      "[{'day1': 'Mon', 'day2': 'Tue'}, {'day3': 'Wed', 'day1': 'Thu'}] \n",
      "\n",
      "Keys = ['day3', 'day1', 'day2']\n",
      "Values = ['Wed', 'Mon', 'Tue']\n",
      "\n",
      "elements: \n",
      "day3 = Wed\n",
      "day1 = Mon\n",
      "day2 = Tue\n",
      "\n",
      "day3 in res: True\n",
      "day4 in res: True\n"
     ]
    }
   ],
   "source": [
    "# Maps\n",
    "# Creating a Chain Map\n",
    "\n",
    "import collections\n",
    "\n",
    "dict1 = {'day1': 'Mon', 'day2':'Tue'}\n",
    "dict2 = {'day3': 'Wed', 'day1': 'Thu'}\n",
    "\n",
    "res = collections.ChainMap(dict1, dict2)\n",
    "\n",
    "# Creating a single dictionary\n",
    "print(res.maps, '\\n')\n",
    "\n",
    "print('Keys = {}'.format(list(res.keys())))\n",
    "print('Values = {}'.format(list(res.values())))\n",
    "print()\n",
    "\n",
    "# Print all the elements from the results\n",
    "print('elements: ')\n",
    "for key, val in res.items():\n",
    "    print('{} = {}'.format(key, val))\n",
    "print()\n",
    "\n",
    "# Find a specific value in the results\n",
    "print('day3 in res: {}'.format(('day1' in res)))\n",
    "print('day4 in res: {}'.format(('day1' in res)))"
   ]
  },
  {
   "cell_type": "code",
   "execution_count": 4,
   "metadata": {},
   "outputs": [
    {
     "name": "stdout",
     "output_type": "stream",
     "text": [
      "[{'day1': 'Mon', 'day2': 'Tue'}, {'day3': 'Wed', 'day4': 'Thu'}] \n",
      "\n",
      "[{'day3': 'Wed', 'day4': 'Thu'}, {'day1': 'Mon', 'day2': 'Tue'}] \n",
      "\n"
     ]
    }
   ],
   "source": [
    "# Map Recording\n",
    "\n",
    "import collections \n",
    "\n",
    "dict1 = {'day1':'Mon', 'day2':'Tue'}\n",
    "dict2 = {'day3':'Wed', 'day4':'Thu'}\n",
    "\n",
    "res1 = collections.ChainMap(dict1, dict2)\n",
    "print(res1.maps, '\\n')\n",
    "\n",
    "res2 = collections.ChainMap(dict2, dict1)\n",
    "print(res2.maps, '\\n')"
   ]
  },
  {
   "cell_type": "code",
   "execution_count": 5,
   "metadata": {},
   "outputs": [
    {
     "name": "stdout",
     "output_type": "stream",
     "text": [
      "[{'day1': 'Mon', 'day2': 'Tue'}, {'day3': 'Wed', 'day4': 'Thu'}] \n",
      "\n",
      "[{'day1': 'Mon', 'day2': 'Tue'}, {'day3': 'Wed', 'day4': 'Fri'}] \n",
      "\n"
     ]
    }
   ],
   "source": [
    "# Updating Map\n",
    "\n",
    "import collections\n",
    "\n",
    "dict1 = {'day1':'Mon', 'day2':'Tue'}\n",
    "dict2 = {'day3':'Wed', 'day4':'Thu'}\n",
    "\n",
    "res = collections.ChainMap(dict1, dict2)\n",
    "print(res.maps, '\\n')\n",
    "\n",
    "dict2['day4'] = 'Fri'\n",
    "print(res.maps, '\\n')"
   ]
  },
  {
   "cell_type": "code",
   "execution_count": null,
   "metadata": {},
   "outputs": [],
   "source": []
  }
 ],
 "metadata": {
  "kernelspec": {
   "display_name": "Python 3",
   "language": "python",
   "name": "python3"
  },
  "language_info": {
   "codemirror_mode": {
    "name": "ipython",
    "version": 3
   },
   "file_extension": ".py",
   "mimetype": "text/x-python",
   "name": "python",
   "nbconvert_exporter": "python",
   "pygments_lexer": "ipython3",
   "version": "3.10.0"
  },
  "orig_nbformat": 4
 },
 "nbformat": 4,
 "nbformat_minor": 2
}
