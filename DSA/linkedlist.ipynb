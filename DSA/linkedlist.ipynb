{
 "cells": [
  {
   "cell_type": "markdown",
   "metadata": {},
   "source": [
    "### Creating linked list"
   ]
  },
  {
   "cell_type": "code",
   "execution_count": 2,
   "metadata": {},
   "outputs": [],
   "source": [
    "class Node:\n",
    "    def __init__(self, dataval=None):\n",
    "        self.dataval = dataval\n",
    "        self.nextval = None\n",
    "\n",
    "class SLinkedlist:\n",
    "    def __init__(self):\n",
    "        self.headval = None\n",
    "\n",
    "list1 = SLinkedlist()\n",
    "list1.headval = Node(\"Mon\")\n",
    "e2 = Node(\"Tue\")\n",
    "e3 = Node(\"Wed\")\n",
    "\n",
    "# Link first Node to second node\n",
    "list1.headval.nextval = e2\n",
    "\n",
    "# Link second Node to third node\n",
    "e2.nextval = e3"
   ]
  },
  {
   "cell_type": "code",
   "execution_count": 3,
   "metadata": {},
   "outputs": [],
   "source": [
    "class Node:\n",
    "    def __init__(self, dataval=None):\n",
    "        self.dataval = dataval\n",
    "        self.nextval = None\n",
    "\n",
    "class Slinkedlist:\n",
    "    def __init__(self):\n",
    "        self.headval = None\n",
    "\n",
    "list1 = Slinkedlist()\n",
    "list1.headval = Node(\"Mon\")\n",
    "b2 = Node(\"Tue\")\n",
    "b3 = Node(\"Wen\")\n",
    "\n",
    "# Link first Node to second \n",
    "list1.headval.nextval = b2\n",
    "\n",
    "# Link second Node to third node\n",
    "b2.nextval = b3"
   ]
  },
  {
   "cell_type": "markdown",
   "metadata": {},
   "source": [
    "### Traversing linked list"
   ]
  },
  {
   "cell_type": "code",
   "execution_count": 5,
   "metadata": {},
   "outputs": [
    {
     "name": "stdout",
     "output_type": "stream",
     "text": [
      "Mon\n",
      "Tue\n",
      "Wed\n"
     ]
    }
   ],
   "source": [
    "class Node:\n",
    "    def __init__(self, dataval = None):\n",
    "        self.dataval = dataval\n",
    "        self.nextval = None\n",
    "\n",
    "class SLinkedList:\n",
    "    def __init__(self):\n",
    "        self.headval = None\n",
    "\n",
    "    def  listprint(self):\n",
    "        printval =self.headval\n",
    "        while printval is not None:\n",
    "            print (printval.dataval)\n",
    "            printval = printval.nextval\n",
    "\n",
    "list1 = SLinkedList()\n",
    "list1.headval = Node(\"Mon\")\n",
    "e2 = Node(\"Tue\")\n",
    "e3 = Node(\"Wed\")\n",
    "\n",
    "\n",
    "# Link first node to second node\n",
    "list1.headval.nextval = e2\n",
    "\n",
    "# Link second node to third node\n",
    "e2.nextval = e3\n",
    "\n",
    "list1.listprint()"
   ]
  },
  {
   "cell_type": "markdown",
   "metadata": {},
   "source": [
    "### Insertion linked list"
   ]
  },
  {
   "cell_type": "markdown",
   "metadata": {},
   "source": [
    "`inserting at the begining`"
   ]
  },
  {
   "cell_type": "code",
   "execution_count": 12,
   "metadata": {},
   "outputs": [
    {
     "name": "stdout",
     "output_type": "stream",
     "text": [
      "Sun\n",
      "Mon\n",
      "Tue\n",
      "Wed\n"
     ]
    }
   ],
   "source": [
    "class Node:\n",
    "    def __init__(self, dataval = None):\n",
    "        self.dataval = dataval\n",
    "        self.nextval = None\n",
    "\n",
    "class SLinkedList:\n",
    "    def __init__(self):\n",
    "        self.headval = None\n",
    "\n",
    "    # Print the linked list\n",
    "    def listprint(self):\n",
    "        printval = self.headval\n",
    "        while printval is not None:\n",
    "            print(printval.dataval)\n",
    "            printval = printval.nextval\n",
    "\n",
    "    def AtBegining(self, newdata):\n",
    "        NewNode = Node(newdata)\n",
    "\n",
    "        # Update the new nodes next val to existing node\n",
    "        NewNode.nextval = self.headval\n",
    "        self.headval = NewNode\n",
    "\n",
    "list1 = SLinkedList()\n",
    "list1.headval = Node(\"Mon\")\n",
    "e2 = Node(\"Tue\")\n",
    "e3 = Node(\"Wed\")\n",
    "\n",
    "\n",
    "# Link first node to second node\n",
    "list1.headval.nextval = e2\n",
    "\n",
    "# Link second node to third node\n",
    "e2.nextval = e3\n",
    "\n",
    "list1.AtBegining(\"Sun\")\n",
    "list1.listprint()\n"
   ]
  },
  {
   "cell_type": "markdown",
   "metadata": {},
   "source": [
    "`inseting at the End`"
   ]
  },
  {
   "cell_type": "code",
   "execution_count": 28,
   "metadata": {},
   "outputs": [
    {
     "name": "stdout",
     "output_type": "stream",
     "text": [
      "Mon\n",
      "Tue\n",
      "Thu\n"
     ]
    }
   ],
   "source": [
    "class Node:\n",
    "    def __init__(self, dataval = None):\n",
    "        self.dataval = dataval\n",
    "        self.nextval = None\n",
    "\n",
    "class SLinkedList:\n",
    "    def __init__(self):\n",
    "        self.headval = None\n",
    "    def AtEnd(self, newdata):\n",
    "        NewNode = Node(newdata)\n",
    "        if self.headval is None:\n",
    "            self.headval = NewNode\n",
    "            return \n",
    "        laste = self.headval\n",
    "        while(laste.nextval):\n",
    "            laste = laste.nextval\n",
    "        laste.nextval = NewNode\n",
    "\n",
    "    # print linked list\n",
    "    def listprint(self):\n",
    "        printval = self.headval\n",
    "        while printval is not None:\n",
    "            print (printval.dataval)\n",
    "            printval = printval.nextval\n",
    "\n",
    "list1 = SLinkedList()\n",
    "list1.headval = Node(\"Mon\")\n",
    "\n",
    "e2 = Node(\"Tue\")\n",
    "e3 = Node(\"Wed\")\n",
    "\n",
    "list1.headval.nextval = e2\n",
    "e3.nextval = e3\n",
    "\n",
    "list1.AtEnd(\"Thu\")\n",
    "list1.listprint()"
   ]
  },
  {
   "cell_type": "code",
   "execution_count": 25,
   "metadata": {},
   "outputs": [
    {
     "name": "stdout",
     "output_type": "stream",
     "text": [
      "Mon\n",
      "Tue\n",
      "Wed\n",
      "Thu\n"
     ]
    }
   ],
   "source": [
    "class Node:\n",
    "   def __init__(self, dataval=None):\n",
    "      self.dataval = dataval\n",
    "      self.nextval = None\n",
    "class SLinkedList:\n",
    "   def __init__(self):\n",
    "      self.headval = None\n",
    "# Function to add newnode\n",
    "   def AtEnd(self, newdata):\n",
    "      NewNode = Node(newdata)\n",
    "      if self.headval is None:\n",
    "         self.headval = NewNode\n",
    "         return\n",
    "      laste = self.headval\n",
    "      while(laste.nextval):\n",
    "         laste = laste.nextval\n",
    "      laste.nextval=NewNode\n",
    "# Print the linked list\n",
    "   def listprint(self):\n",
    "      printval = self.headval\n",
    "      while printval is not None:\n",
    "         print (printval.dataval)\n",
    "         printval = printval.nextval\n",
    "\n",
    "list = SLinkedList()\n",
    "list.headval = Node(\"Mon\")\n",
    "e2 = Node(\"Tue\")\n",
    "e3 = Node(\"Wed\")\n",
    "\n",
    "list.headval.nextval = e2\n",
    "e2.nextval = e3\n",
    "\n",
    "list.AtEnd(\"Thu\")\n",
    "\n",
    "list.listprint()"
   ]
  },
  {
   "cell_type": "code",
   "execution_count": 30,
   "metadata": {},
   "outputs": [
    {
     "name": "stdout",
     "output_type": "stream",
     "text": [
      "Mon\n",
      "Tue\n",
      "Wed\n",
      "Thu\n"
     ]
    }
   ],
   "source": [
    "class Node:\n",
    "    def __init__(self, dataval=None):\n",
    "        self.dataval = dataval\n",
    "        self.nextval = None\n",
    "\n",
    "class SLinkedList:\n",
    "    def __init__(self):\n",
    "        self.headval = None\n",
    "\n",
    "    # inserting at the end \n",
    "    def AtEnd(self, newdata):\n",
    "        NewNode = Node(newdata)\n",
    "        if self.headval is None:\n",
    "            self.headval = NewNode\n",
    "            return \n",
    "        laste = self.headval\n",
    "        while(laste.nextval):\n",
    "            laste = laste.nextval\n",
    "        laste.nextval = NewNode\n",
    "\n",
    "    # print list\n",
    "    def listprint(self):\n",
    "        printval = self.headval\n",
    "        while printval is not None:\n",
    "            print(printval.dataval)\n",
    "            printval = printval.nextval\n",
    "\n",
    "list = SLinkedList()\n",
    "list.headval = Node(\"Mon\")\n",
    "e2 = Node(\"Tue\")\n",
    "e3 = Node(\"Wed\")\n",
    "\n",
    "list.headval.nextval = e2\n",
    "e2.nextval = e3\n",
    "\n",
    "list.AtEnd(\"Thu\")\n",
    "\n",
    "list.listprint()\n",
    "            "
   ]
  },
  {
   "cell_type": "markdown",
   "metadata": {},
   "source": [
    "`inserting between the list`"
   ]
  },
  {
   "cell_type": "code",
   "execution_count": 34,
   "metadata": {},
   "outputs": [
    {
     "name": "stdout",
     "output_type": "stream",
     "text": [
      "Mon\n",
      "Tue\n",
      "Fri\n",
      "Wed\n"
     ]
    }
   ],
   "source": [
    "class Node:\n",
    "    def __init__(self, dataval = None):\n",
    "        self.dataval = dataval\n",
    "        self.nextval = None\n",
    "\n",
    "class SLinkedList:\n",
    "    def __init__(self):\n",
    "        self.headval = None\n",
    "\n",
    "    # Function add node\n",
    "    def InBetween(self, middle_node, newdata):\n",
    "        if middle_node is None:\n",
    "            print(\"The mentioned node is absent\")\n",
    "            return\n",
    "\n",
    "        NewNode = Node(newdata)\n",
    "        NewNode.nextval = middle_node.nextval\n",
    "        middle_node.nextval = NewNode\n",
    "    \n",
    "    # Print linked list\n",
    "    def listprint(self):\n",
    "        printval = self.headval\n",
    "        while printval is not None:\n",
    "            print(printval.dataval)\n",
    "            printval = printval.nextval\n",
    "\n",
    "list = SLinkedList()\n",
    "list.headval = Node(\"Mon\")\n",
    "e2 = Node(\"Tue\")\n",
    "e3 = Node(\"Wed\")\n",
    "\n",
    "list.headval.nextval = e2\n",
    "e2.nextval = e3\n",
    "\n",
    "list.InBetween(list.headval.nextval, \"Fri\")\n",
    "\n",
    "list.listprint()"
   ]
  },
  {
   "cell_type": "markdown",
   "metadata": {},
   "source": [
    "`Remove items`"
   ]
  },
  {
   "cell_type": "code",
   "execution_count": 38,
   "metadata": {},
   "outputs": [
    {
     "name": "stdout",
     "output_type": "stream",
     "text": [
      "Thu\n",
      "Wed\n",
      "Mon\n"
     ]
    }
   ],
   "source": [
    "class Node:\n",
    "    def __init__(self, data = None):\n",
    "        self.data = data\n",
    "        self.next = None\n",
    "\n",
    "class SLinkedList:\n",
    "    def __init__(self):\n",
    "        self.head = None\n",
    "\n",
    "    def Atbegining(self, data_in):\n",
    "        NewNode = Node(data_in)\n",
    "        NewNode.next = self.head\n",
    "        self.head = NewNode\n",
    "\n",
    "    # Function to remove node\n",
    "    def RemoveNode(self, RemoveKey):\n",
    "        HeadVal = self.head\n",
    "\n",
    "        if (HeadVal is not None):\n",
    "            if (HeadVal.data == RemoveKey):\n",
    "                self.head = HeadVal.next\n",
    "                HeadVal = None\n",
    "                return\n",
    "\n",
    "        while (HeadVal is not None):\n",
    "            if HeadVal.data == RemoveKey:\n",
    "                break\n",
    "            prev = HeadVal\n",
    "            HeadVal = HeadVal.next\n",
    "\n",
    "        if (HeadVal == None):\n",
    "            return\n",
    "\n",
    "        prev.next = HeadVal.next\n",
    "        HeadVal = None\n",
    "\n",
    "    def LListprint(self):\n",
    "        printval = self.head\n",
    "        while(printval):\n",
    "            print(printval.data),\n",
    "            printval = printval.next\n",
    "\n",
    "list = SLinkedList()\n",
    "list.Atbegining(\"Mon\")\n",
    "list.Atbegining(\"Tue\")\n",
    "list.Atbegining(\"Wed\")\n",
    "list.Atbegining(\"Thu\")\n",
    "list.RemoveNode(\"Tue\")\n",
    "list.LListprint()"
   ]
  },
  {
   "cell_type": "code",
   "execution_count": 3,
   "metadata": {},
   "outputs": [
    {
     "ename": "NameError",
     "evalue": "name 'ListNode' is not defined",
     "output_type": "error",
     "traceback": [
      "\u001b[1;31m---------------------------------------------------------------------------\u001b[0m",
      "\u001b[1;31mNameError\u001b[0m                                 Traceback (most recent call last)",
      "Cell \u001b[1;32mIn[3], line 1\u001b[0m\n\u001b[1;32m----> 1\u001b[0m \u001b[39mclass\u001b[39;00m \u001b[39mSolution\u001b[39;00m:\n\u001b[0;32m      2\u001b[0m     \u001b[39mdef\u001b[39;00m \u001b[39maddTwoNumbers\u001b[39m(\u001b[39mself\u001b[39m, l1: ListNode, l2: ListNode) \u001b[39m-\u001b[39m\u001b[39m>\u001b[39m ListNode:\n\u001b[0;32m      3\u001b[0m         dummyHead \u001b[39m=\u001b[39m ListNode(\u001b[39m0\u001b[39m)\n",
      "Cell \u001b[1;32mIn[3], line 2\u001b[0m, in \u001b[0;36mSolution\u001b[1;34m()\u001b[0m\n\u001b[0;32m      1\u001b[0m \u001b[39mclass\u001b[39;00m \u001b[39mSolution\u001b[39;00m:\n\u001b[1;32m----> 2\u001b[0m     \u001b[39mdef\u001b[39;00m \u001b[39maddTwoNumbers\u001b[39m(\u001b[39mself\u001b[39m, l1: ListNode, l2: ListNode) \u001b[39m-\u001b[39m\u001b[39m>\u001b[39m ListNode:\n\u001b[0;32m      3\u001b[0m         dummyHead \u001b[39m=\u001b[39m ListNode(\u001b[39m0\u001b[39m)\n\u001b[0;32m      4\u001b[0m         tail \u001b[39m=\u001b[39m dummyHead\n",
      "\u001b[1;31mNameError\u001b[0m: name 'ListNode' is not defined"
     ]
    }
   ],
   "source": [
    "class Solution:\n",
    "    def addTwoNumbers(self, l1: ListNode, l2: ListNode) -> ListNode:\n",
    "        dummyHead = ListNode(0)\n",
    "        tail = dummyHead\n",
    "        carry = 0\n",
    "\n",
    "        while l1 is not None or l2 is not None or carry != 0:\n",
    "            digit1 = l1.val if l1 is not None else 0\n",
    "            digit2 = l2.val if l2 is not None else 0\n",
    "\n",
    "            sum = digit1 + digit2 + carry\n",
    "            digit  = sum % 10\n",
    "            carry = sum // 10\n",
    "\n",
    "            newNode = ListNode(digit)\n",
    "            tail.next = newNode\n",
    "            tail = tail.next\n",
    "\n",
    "            l1 = l1.next if l1 is not None else None\n",
    "            l2 = l2.next if l2 is not None else None\n",
    "\n",
    "        result = dummyHead.next\n",
    "        dummyHead.next = None\n",
    "        return result\n",
    "\n",
    "\n",
    "\n",
    "\n"
   ]
  },
  {
   "cell_type": "code",
   "execution_count": 4,
   "metadata": {},
   "outputs": [
    {
     "ename": "NameError",
     "evalue": "name 'ListNode' is not defined",
     "output_type": "error",
     "traceback": [
      "\u001b[1;31m---------------------------------------------------------------------------\u001b[0m",
      "\u001b[1;31mNameError\u001b[0m                                 Traceback (most recent call last)",
      "Cell \u001b[1;32mIn[4], line 1\u001b[0m\n\u001b[1;32m----> 1\u001b[0m \u001b[39mclass\u001b[39;00m \u001b[39mSolution\u001b[39;00m:\n\u001b[0;32m      2\u001b[0m     \u001b[39mdef\u001b[39;00m \u001b[39maddTwoNumbers\u001b[39m(\u001b[39mself\u001b[39m, l1: ListNode, l2: ListNode) \u001b[39m-\u001b[39m\u001b[39m>\u001b[39m ListNode:\n\u001b[0;32m      3\u001b[0m         dummyHead \u001b[39m=\u001b[39m ListNode(\u001b[39m0\u001b[39m)\n",
      "Cell \u001b[1;32mIn[4], line 2\u001b[0m, in \u001b[0;36mSolution\u001b[1;34m()\u001b[0m\n\u001b[0;32m      1\u001b[0m \u001b[39mclass\u001b[39;00m \u001b[39mSolution\u001b[39;00m:\n\u001b[1;32m----> 2\u001b[0m     \u001b[39mdef\u001b[39;00m \u001b[39maddTwoNumbers\u001b[39m(\u001b[39mself\u001b[39m, l1: ListNode, l2: ListNode) \u001b[39m-\u001b[39m\u001b[39m>\u001b[39m ListNode:\n\u001b[0;32m      3\u001b[0m         dummyHead \u001b[39m=\u001b[39m ListNode(\u001b[39m0\u001b[39m)\n\u001b[0;32m      4\u001b[0m         tail \u001b[39m=\u001b[39m dummyHead\n",
      "\u001b[1;31mNameError\u001b[0m: name 'ListNode' is not defined"
     ]
    }
   ],
   "source": [
    "class Solution:\n",
    "    def addTwoNumbers(self, l1: ListNode, l2: ListNode) -> ListNode:\n",
    "        dummyHead = ListNode(0)\n",
    "        tail = dummyHead\n",
    "        carry = 0\n",
    "\n",
    "        while l1 is not None or l2 is not None or carry != 0:\n",
    "            digit1 = l1.val if l1 is not None else 0\n",
    "            digit2 = l2.val if l2 is not None else 0\n",
    "\n",
    "            sum = digit1 + digit2 + carry\n",
    "            digit = sum % 10\n",
    "            carry = sum // 10\n",
    "\n",
    "            newNode = ListNode(digit)\n",
    "            tail.next = newNode\n",
    "            tail = tail.next\n",
    "\n",
    "            l1 = l1.next if l1 is not None else None\n",
    "            l2 = l2.next if l2 is not None else None\n",
    "\n",
    "        result = dummyHead.next\n",
    "        dummyHead.next = None\n",
    "        return result"
   ]
  },
  {
   "cell_type": "markdown",
   "metadata": {},
   "source": [
    "# Linked Repeat"
   ]
  },
  {
   "cell_type": "markdown",
   "metadata": {},
   "source": [
    "so in linked list we have \n",
    "1. Head\n",
    "2. Tail\n",
    "3. Node\n",
    "that are linked to each other \n",
    "so the linked list we have \n",
    "Head --> Nodes --> Tail\n",
    "\n",
    "\n",
    "    Node1 -> Node2 -> Node3 -> Node4\n",
    "\n",
    "        |           |           |   \n",
    "        \n",
    "        Head        Link        Tail "
   ]
  },
  {
   "cell_type": "code",
   "execution_count": null,
   "metadata": {},
   "outputs": [],
   "source": []
  },
  {
   "cell_type": "markdown",
   "metadata": {},
   "source": [
    "# Advance Linked List"
   ]
  },
  {
   "cell_type": "markdown",
   "metadata": {},
   "source": [
    "### create doubly linked list"
   ]
  },
  {
   "cell_type": "markdown",
   "metadata": {},
   "source": []
  },
  {
   "cell_type": "code",
   "execution_count": 1,
   "metadata": {},
   "outputs": [
    {
     "name": "stdout",
     "output_type": "stream",
     "text": [
      "83\n",
      "9\n",
      "12\n"
     ]
    }
   ],
   "source": [
    "# Creating doubly linked list\n",
    "\n",
    "class Node: # creating Node\n",
    "    def __init__(self, data):\n",
    "        self.data = data # Insert list data\n",
    "        self.next = None # Next data\n",
    "        self.prev = None # previous data\n",
    "\n",
    "class doubly_linked_list: # creating class for doubly linked list\n",
    "    def __init__(self):\n",
    "        self.head = None # inilialize the head is None\n",
    "\n",
    "    # Adding the data elements\n",
    "    def push(self, NewVal):\n",
    "        NewNode = Node(NewVal)\n",
    "        NewNode.next = self.head\n",
    "        if self.head is not None:\n",
    "            self.head.prev = NewNode\n",
    "        self.head = NewNode\n",
    "\n",
    "    # Print in Doubly Linked List\n",
    "    def listprint(self, node):\n",
    "        while (node is not None):\n",
    "            print(node.data),\n",
    "            last = node\n",
    "            node = node.next\n",
    "\n",
    "dllist = doubly_linked_list()\n",
    "dllist.push(12)\n",
    "dllist.push(9)\n",
    "dllist.push(83)\n",
    "dllist.listprint(dllist.head)\n"
   ]
  },
  {
   "cell_type": "markdown",
   "metadata": {},
   "source": [
    "### Inserting into Doubly Linked List"
   ]
  },
  {
   "cell_type": "code",
   "execution_count": 2,
   "metadata": {},
   "outputs": [
    {
     "name": "stdout",
     "output_type": "stream",
     "text": [
      "62\n",
      "8\n",
      "13\n",
      "12\n"
     ]
    }
   ],
   "source": [
    "# Create Node Class\n",
    "class Node:\n",
    "    def __init__(self, data):\n",
    "       self.data = data\n",
    "       self.next = None\n",
    "       self.prev = None\n",
    "\n",
    "# create the doubly linked list\n",
    "class doubly_linked_list:\n",
    "    def __init__(self):\n",
    "        self.head = None\n",
    "\n",
    "    # Define the push method to add elements\n",
    "    def push(self, NewVal):\n",
    "        NewNode = Node(NewVal)\n",
    "        NewNode.next = self.head\n",
    "        if self.head is not None:\n",
    "            self.head.prev = NewNode\n",
    "        self.head = NewNode\n",
    "\n",
    "    # Define the insert method to insert the element\n",
    "    def insert(self, prev_node, NewVal):\n",
    "        if prev_node is None:\n",
    "            return \n",
    "        NewNode = Node(NewVal)\n",
    "        NewNode.next = prev_node.next\n",
    "        prev_node.next = NewNode\n",
    "        NewNode.prev = prev_node\n",
    "        if NewNode.next is not None:\n",
    "            NewNode.next.prev = NewNode\n",
    "\n",
    "    # Define the method to print the linked list\n",
    "    def listprint(self, node):\n",
    "        while (node is not None):\n",
    "            print(node.data),\n",
    "            last = node\n",
    "            node = node.next\n",
    "\n",
    "dllist = doubly_linked_list()\n",
    "dllist.push(12)\n",
    "dllist.push(8)\n",
    "dllist.push(62)\n",
    "dllist.insert(dllist.head.next, 13)\n",
    "dllist.listprint(dllist.head)"
   ]
  },
  {
   "cell_type": "markdown",
   "metadata": {},
   "source": [
    "### Appending to a Doubly linked list"
   ]
  },
  {
   "cell_type": "code",
   "execution_count": 4,
   "metadata": {},
   "outputs": [
    {
     "name": "stdout",
     "output_type": "stream",
     "text": [
      "45\n",
      "73\n",
      "8\n",
      "12\n",
      "9\n"
     ]
    }
   ],
   "source": [
    "# Create the node class\n",
    "\n",
    "class Node:\n",
    "    def __init__(self, data):\n",
    "        self.data = data\n",
    "        self.next = None\n",
    "        self.prev = None\n",
    "\n",
    "# Create the doubly linked list class\n",
    "class doubly_linked_list:\n",
    "    def __init__(self):\n",
    "        self.head = None\n",
    "\n",
    "# Define the push method to add elements at the begining \n",
    "    def push(self, NewVal):\n",
    "        NewNode = Node(NewVal)\n",
    "        NewNode.next = self.head\n",
    "        if self.head is not None:\n",
    "            self.head.prev = NewNode\n",
    "        self.head = NewNode\n",
    "\n",
    "# Define the append method to add elements at the end \n",
    "    def append(self, NewVal):\n",
    "        NewNode = Node(NewVal)\n",
    "        NewNode.next = None\n",
    "        if self.head is None:\n",
    "            NewNode.prev = None\n",
    "            self.head = NewNode\n",
    "            return \n",
    "  \n",
    "        last = self.head\n",
    "        while (last.next is not None):\n",
    "            last = last.next\n",
    "        last.next = NewNode\n",
    "        NewNode.prev = last \n",
    "        return \n",
    "    \n",
    "# Define the method to print\n",
    "    def listprint(self, node):\n",
    "        while (node is not None):\n",
    "            print(node.data),\n",
    "            last = node\n",
    "            node = node.next\n",
    "\n",
    "dllist = doubly_linked_list()\n",
    "dllist.push(12)\n",
    "dllist.append(9)\n",
    "dllist.push(8)\n",
    "dllist.push(73)\n",
    "dllist.push(45)\n",
    "dllist.listprint(dllist.head)"
   ]
  },
  {
   "cell_type": "code",
   "execution_count": null,
   "metadata": {},
   "outputs": [],
   "source": []
  }
 ],
 "metadata": {
  "kernelspec": {
   "display_name": "Python 3",
   "language": "python",
   "name": "python3"
  },
  "language_info": {
   "codemirror_mode": {
    "name": "ipython",
    "version": 3
   },
   "file_extension": ".py",
   "mimetype": "text/x-python",
   "name": "python",
   "nbconvert_exporter": "python",
   "pygments_lexer": "ipython3",
   "version": "3.10.0"
  },
  "orig_nbformat": 4
 },
 "nbformat": 4,
 "nbformat_minor": 2
}
