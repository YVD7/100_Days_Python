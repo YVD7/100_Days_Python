{
 "cells": [
  {
   "cell_type": "markdown",
   "metadata": {},
   "source": [
    "Conditional statements ( if, else, elif)"
   ]
  },
  {
   "cell_type": "code",
   "execution_count": 3,
   "metadata": {},
   "outputs": [
    {
     "name": "stdout",
     "output_type": "stream",
     "text": [
      "Welcome to the rollercoster!\n",
      "You can ride rollercoster\n"
     ]
    }
   ],
   "source": [
    "print(\"Welcome to the rollercoster!\")\n",
    "height = int(input(\"What is your height in cm ?\"))\n",
    "\n",
    "if height >= 120:\n",
    "    print(\"You can ride rollercoster\")\n",
    "else:\n",
    "    print(\"Sorry, you have to grow taller before you can ride\")"
   ]
  },
  {
   "cell_type": "markdown",
   "metadata": {},
   "source": [
    "find the number is odd or even"
   ]
  },
  {
   "cell_type": "code",
   "execution_count": 8,
   "metadata": {},
   "outputs": [
    {
     "name": "stdout",
     "output_type": "stream",
     "text": [
      "The number is even\n"
     ]
    }
   ],
   "source": [
    "num = int(input(\"Enter the number: \"))\n",
    "\n",
    "if num % 2 == 0:\n",
    "    print(\"The number is even\")\n",
    "else:\n",
    "    print(\"The number is Odd\")"
   ]
  },
  {
   "cell_type": "markdown",
   "metadata": {},
   "source": [
    "# Nested if else statement"
   ]
  },
  {
   "cell_type": "markdown",
   "metadata": {},
   "source": [
    "-> if-else in side if-else statement."
   ]
  },
  {
   "cell_type": "code",
   "execution_count": 11,
   "metadata": {},
   "outputs": [
    {
     "name": "stdout",
     "output_type": "stream",
     "text": [
      "Welcome to the rollercoster\n",
      "You can ride the rollercoster!\n",
      "Please pay $7.\n"
     ]
    }
   ],
   "source": [
    "print(\"Welcome to the rollercoster\")\n",
    "height = int(input(\"What is your heaight in cm?\"))\n",
    "\n",
    "if height >= 120:\n",
    "    print(\"You can ride the rollercoster!\")\n",
    "    age = int(input(\"What is your age? \"))\n",
    "    if age < 12:\n",
    "        print(\"Please pay $5.\")\n",
    "    elif age <= 18:\n",
    "        print(\"Please pay $7.\")\n",
    "    else:\n",
    "        print(\"Please pay $12.\")\n",
    "else:\n",
    "    print(\"Sorry, you have grow taller before you can ride.\")"
   ]
  },
  {
   "cell_type": "markdown",
   "metadata": {},
   "source": [
    "BMI Calculator"
   ]
  },
  {
   "cell_type": "code",
   "execution_count": 13,
   "metadata": {},
   "outputs": [
    {
     "name": "stdout",
     "output_type": "stream",
     "text": [
      "Your BMI is 0.002551020408163265, you are underweight\n"
     ]
    }
   ],
   "source": [
    "height = float(input()) \n",
    "weight = int(input())\n",
    "\n",
    "bmi = weight / (height ** 2)\n",
    "if bmi < 18.5:\n",
    "    print(f\"Your BMI is {bmi}, you are underweight\")\n",
    "elif bmi < 25:\n",
    "    print(f\"Your BMI is {bmi}, you have a normal weight.\")\n",
    "elif bmi < 30:\n",
    "    print(f\"Your BMI is {bmi}, you already overwigth.\")\n",
    "elif bmi < 35:\n",
    "    print(f\"Your BMI is {bmi}, you are obese.\")\n",
    "else:\n",
    "    print(f\"Your BMI is {bmi}, you are clinically obese.\")"
   ]
  },
  {
   "cell_type": "markdown",
   "metadata": {},
   "source": [
    "Check leap year"
   ]
  },
  {
   "cell_type": "code",
   "execution_count": 14,
   "metadata": {},
   "outputs": [
    {
     "name": "stdout",
     "output_type": "stream",
     "text": [
      "leap year\n"
     ]
    }
   ],
   "source": [
    "year = int(input())\n",
    "\n",
    "if year % 4 == 0:\n",
    "    if year % 100 == 0:\n",
    "        if year % 400 == 0:\n",
    "            print(\"leap year\")\n",
    "        else:\n",
    "            print(\"Not leap year\")\n",
    "    else:\n",
    "        print(\"leap year\")\n",
    "else:\n",
    "    print(\"not leap year\")"
   ]
  },
  {
   "cell_type": "markdown",
   "metadata": {},
   "source": [
    "multiple if statement in sucession"
   ]
  },
  {
   "cell_type": "code",
   "execution_count": 17,
   "metadata": {},
   "outputs": [
    {
     "name": "stdout",
     "output_type": "stream",
     "text": [
      "Welcome to the rollercoster\n",
      "You can ride the rollercoster!\n",
      "Adult tickets are $12.\n",
      "You final bill is $ 12\n"
     ]
    }
   ],
   "source": [
    "print(\"Welcome to the rollercoster\")\n",
    "height = int(input(\"What is your heaight in cm?\"))\n",
    "bill = 0\n",
    "\n",
    "if height >= 120:\n",
    "    print(\"You can ride the rollercoster!\")\n",
    "    age = int(input(\"What is your age? \"))\n",
    "    if age < 12:\n",
    "        bill = 5\n",
    "        print(\"Child tickets are $5.\")\n",
    "    elif age <= 18:\n",
    "        bill = 7\n",
    "        print(\"Youth tickets are $7.\")\n",
    "    else:\n",
    "        bill = 12\n",
    "        print(\"Adult tickets are $12.\")\n",
    "\n",
    "    wants_photo = input(\"Do you want a photo taken? Y or N.\")\n",
    "    if wants_photo == \"Y\":\n",
    "        bill += 3\n",
    "\n",
    "    print(f\"You final bill is $ {bill}\")\n",
    "\n",
    "    \n",
    "else:\n",
    "    print(\"Sorry, you have grow taller before you can ride.\")"
   ]
  },
  {
   "cell_type": "markdown",
   "metadata": {},
   "source": [
    "Pizza order"
   ]
  },
  {
   "cell_type": "code",
   "execution_count": 18,
   "metadata": {},
   "outputs": [
    {
     "name": "stdout",
     "output_type": "stream",
     "text": [
      "Thank you for choosing Python Pizza Deliveries!\n",
      "Your final bill is: $25.\n"
     ]
    }
   ],
   "source": [
    "print(\"Thank you for choosing Python Pizza Deliveries!\")\n",
    "size = input() # What size pizza do you want ? \"S\" , \"M\" or \"L\"\n",
    "add_pepperoni = input() # Do you want pepperoni? \"Y\" or \"N\"\n",
    "extract_cheese = input() # Do you want extra cheese? \"Y\" or \"N\"\n",
    "\n",
    "# Your code below this line\n",
    "bill = 0\n",
    "\n",
    "if size == \"S\":\n",
    "    bill += 15\n",
    "elif size == \"M\":\n",
    "    bill += 20\n",
    "else:\n",
    "    bill += 24\n",
    "\n",
    "if add_pepperoni == \"Y\":\n",
    "    if size == \"S\":\n",
    "        bill += 2\n",
    "    else:\n",
    "        bill += 3\n",
    "\n",
    "if extract_cheese == \"Y\":\n",
    "    bill += 1\n",
    "\n",
    "print(f\"Your final bill is: ${bill}.\")"
   ]
  },
  {
   "cell_type": "markdown",
   "metadata": {},
   "source": [
    "#  Logical Operator\n",
    "    - and , or , not"
   ]
  },
  {
   "cell_type": "markdown",
   "metadata": {},
   "source": [
    "multiple condition in the same line of code"
   ]
  },
  {
   "cell_type": "markdown",
   "metadata": {},
   "source": [
    "### and operator\n",
    " - if a and b are true then condition is True\n",
    " - if a is false and b is true then condition is False\n",
    " - if a is true and b is false the condition is False"
   ]
  },
  {
   "cell_type": "markdown",
   "metadata": {},
   "source": [
    "### Or operator\n",
    " - if c is true or d is true then Condition is True\n",
    " - if c is false or d is true then Condition is True\n",
    " - if c is ture or d is false then Condition is True\n",
    " - if c is false or d is false then Condition is False"
   ]
  },
  {
   "cell_type": "markdown",
   "metadata": {},
   "source": [
    "### not operator\n",
    " - if not E then Condition is True\n",
    " - if E the Condition is False\n",
    "\n",
    " so basically this reverse the condition"
   ]
  },
  {
   "cell_type": "markdown",
   "metadata": {},
   "source": []
  },
  {
   "cell_type": "code",
   "execution_count": 19,
   "metadata": {},
   "outputs": [
    {
     "name": "stdout",
     "output_type": "stream",
     "text": [
      "Welcome to the rollercoster\n",
      "You can ride the rollercoster!\n",
      "Adult tickets are $12.\n",
      "You final bill is $ 15\n"
     ]
    }
   ],
   "source": [
    "print(\"Welcome to the rollercoster\")\n",
    "height = int(input(\"What is your heaight in cm?\"))\n",
    "bill = 0\n",
    "\n",
    "if height >= 120:\n",
    "    print(\"You can ride the rollercoster!\")\n",
    "    age = int(input(\"What is your age? \"))\n",
    "    if age < 12:\n",
    "        bill = 5\n",
    "        print(\"Child tickets are $5.\")\n",
    "    elif age <= 18:\n",
    "        bill = 7\n",
    "        print(\"Youth tickets are $7.\")\n",
    "    elif age >= 45 and age <= 55:\n",
    "        print(\"Everything is going to be ok. Have a ride on us!\")\n",
    "    else:\n",
    "        bill = 12\n",
    "        print(\"Adult tickets are $12.\")\n",
    "\n",
    "    wants_photo = input(\"Do you want a photo taken? Y or N.\")\n",
    "    if wants_photo == \"Y\":\n",
    "        bill += 3\n",
    "\n",
    "    print(f\"You final bill is $ {bill}\")\n",
    "\n",
    "    \n",
    "else:\n",
    "    print(\"Sorry, you have grow taller before you can ride.\")"
   ]
  },
  {
   "cell_type": "markdown",
   "metadata": {},
   "source": [
    "Love calculator"
   ]
  },
  {
   "cell_type": "code",
   "execution_count": 22,
   "metadata": {},
   "outputs": [
    {
     "name": "stdout",
     "output_type": "stream",
     "text": [
      "The love calculator is calculating your socre...\n",
      "Your score is 33.\n"
     ]
    }
   ],
   "source": [
    "print(f\"The love calculator is calculating your socre...\")\n",
    "name1 = input() # what is your name ?\n",
    "name2 = input() # what is their name ?\n",
    "# Your code below the line.\n",
    "combined_names = name1 + name2\n",
    "lower_names = combined_names.lower()\n",
    "t = lower_names.count('t')\n",
    "r = lower_names.count('r')\n",
    "u = lower_names.count('u')\n",
    "e = lower_names.count('e')\n",
    "\n",
    "first_digits = t + r + u + e\n",
    "\n",
    "l = lower_names.count(\"l\")\n",
    "o = lower_names.count(\"o\")\n",
    "v = lower_names.count(\"v\")\n",
    "e = lower_names.count(\"e\")\n",
    "second_digits = l + o + v + e\n",
    "\n",
    "score = int(str(first_digits) + str(second_digits))\n",
    "if (score < 10) or (score > 90):\n",
    "    print(f\"Your score is {score}, you go together like coke and mentos.\")\n",
    "elif (score >= 40) and (score <= 50):\n",
    "    print(f\"Your score is {score}, you are alright together.\")\n",
    "else:\n",
    "    print(f\"Your score is {score}.\")"
   ]
  },
  {
   "cell_type": "markdown",
   "metadata": {},
   "source": [
    "Treasury Iland"
   ]
  },
  {
   "cell_type": "code",
   "execution_count": 24,
   "metadata": {},
   "outputs": [
    {
     "name": "stdout",
     "output_type": "stream",
     "text": [
      "Welcome to treasury iLand.\n",
      "Your mission is to find the treasure.\n",
      "You have found the treasure. You Win!\n"
     ]
    }
   ],
   "source": [
    "print(\"Welcome to treasury iLand.\")\n",
    "print(\"Your mission is to find the treasure.\")\n",
    "choice1 = input('You\\'re at crossroad, where do you want to go? Type \"left\" or \"right\"ConnectionError ').lower()\n",
    "# if choice1 == \"left\":\n",
    "#     continue\n",
    "# if choice1 == \"right\":\n",
    "#     print(\"You fell into a hole. Game Over.\")\n",
    "# elif choice1 == \"left\":\n",
    "\n",
    "if choice1 == \"left\" or choice1 == \"Left\":\n",
    "    choice2 = input('You\\'ve come to lake. There is an island in the middle of the lake.Type \"wait\" to wait for a boat. Type \"swim\" to swim across.').lower()\n",
    "    if choice2 == \"wait\":\n",
    "        # Game continue\n",
    "        choice3 =input('You\\'ve arried at the island unharmed. There is house with 3 doors. One red, one yellow, one blue. Which color do you choosse?').lower()\n",
    "        if choice3 == \"red\":\n",
    "            print(\"It's room full of fire. Game Over\")\n",
    "        elif choice3 == \"yellow\":\n",
    "            print(\"You have found the treasure. You Win!\")\n",
    "        elif choice3 == \"blue\":\n",
    "            print(\"You enter the beast. Game Over.\")\n",
    "        else:\n",
    "            print(\"You choose the wrong door Game Over\")\n",
    "    else:\n",
    "        print(\"You have attack by an angry trout. Game Over.\")\n",
    "\n",
    "else:\n",
    "    print(\"You fell into trap. Game Over.\")\n"
   ]
  },
  {
   "cell_type": "code",
   "execution_count": null,
   "metadata": {},
   "outputs": [],
   "source": []
  }
 ],
 "metadata": {
  "kernelspec": {
   "display_name": "venv",
   "language": "python",
   "name": "python3"
  },
  "language_info": {
   "codemirror_mode": {
    "name": "ipython",
    "version": 3
   },
   "file_extension": ".py",
   "mimetype": "text/x-python",
   "name": "python",
   "nbconvert_exporter": "python",
   "pygments_lexer": "ipython3",
   "version": "3.11.5"
  },
  "orig_nbformat": 4
 },
 "nbformat": 4,
 "nbformat_minor": 2
}
