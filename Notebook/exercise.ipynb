{
 "cells": [
  {
   "cell_type": "markdown",
   "metadata": {},
   "source": [
    "# Python Exercises"
   ]
  },
  {
   "cell_type": "code",
   "execution_count": 3,
   "metadata": {},
   "outputs": [
    {
     "name": "stdout",
     "output_type": "stream",
     "text": [
      "The result is 600     The result is 70\n"
     ]
    }
   ],
   "source": [
    "# multiplication and addition\n",
    "number1 = 20\n",
    "number2 = 30\n",
    "mul = number1 * number2\n",
    "\n",
    "num3 = 40\n",
    "num4 = 30\n",
    "sum = num3 + num4\n",
    "\n",
    "print(f\"The result is {mul}\",\"   \", f\"The result is {sum}\")"
   ]
  },
  {
   "cell_type": "markdown",
   "metadata": {},
   "source": []
  },
  {
   "cell_type": "code",
   "execution_count": 19,
   "metadata": {},
   "outputs": [
    {
     "name": "stdout",
     "output_type": "stream",
     "text": [
      "Current Number 0 Previous Number 0 Sum: 0\n",
      "Current Number 1 Previous Number 0 Sum: 1\n",
      "Current Number 2 Previous Number 1 Sum: 3\n",
      "Current Number 3 Previous Number 2 Sum: 5\n",
      "Current Number 4 Previous Number 3 Sum: 7\n",
      "Current Number 5 Previous Number 4 Sum: 9\n",
      "Current Number 6 Previous Number 5 Sum: 11\n",
      "Current Number 7 Previous Number 6 Sum: 13\n",
      "Current Number 8 Previous Number 7 Sum: 15\n",
      "Current Number 9 Previous Number 8 Sum: 17\n"
     ]
    }
   ],
   "source": [
    "\n",
    "# Write a program to iterate the first 10 numbers, and in each iteration, \n",
    "# print the sum of the current and previous number.\n",
    "\n",
    "current_number = 0\n",
    "previous_number = 0\n",
    "\n",
    "for i in range(10):\n",
    "            previous_number = current_number\n",
    "            current_number = i\n",
    "            Sum = previous_number + current_number\n",
    "            log = f\"Current Number {current_number} Previous Number {previous_number} Sum: {Sum}\"\n",
    "            print(log)\n",
    "\n"
   ]
  },
  {
   "cell_type": "code",
   "execution_count": 37,
   "metadata": {},
   "outputs": [
    {
     "name": "stdout",
     "output_type": "stream",
     "text": [
      "Original String is pynative \n",
      "Printing only even index chars\n",
      "p\n",
      "n\n",
      "t\n",
      "v\n"
     ]
    }
   ],
   "source": [
    "# Write a program to accept a string from the user and \n",
    "# display characters that are present at an even index number.\n",
    "\n",
    "string = str(input(\"Enter the string \"))\n",
    "\n",
    "original = f\"Original String is pynative\"\n",
    "even = f\"Printing only even index chars\"\n",
    "print(f\"{original} \\n{even}\")\n",
    "for i in range(0, len(string)-1, 2):\n",
    "    even_index = string[i]\n",
    "    print(even_index)\n"
   ]
  },
  {
   "cell_type": "code",
   "execution_count": 48,
   "metadata": {},
   "outputs": [
    {
     "ename": "TypeError",
     "evalue": "'str' object is not callable",
     "output_type": "error",
     "traceback": [
      "\u001b[0;31m---------------------------------------------------------------------------\u001b[0m",
      "\u001b[0;31mTypeError\u001b[0m                                 Traceback (most recent call last)",
      "\u001b[1;32m/home/yash/YVD/Github/100_Days_Python/Notebook/exercise.ipynb Cell 6\u001b[0m line \u001b[0;36m2\n\u001b[1;32m      <a href='vscode-notebook-cell:/home/yash/YVD/Github/100_Days_Python/Notebook/exercise.ipynb#W5sZmlsZQ%3D%3D?line=0'>1</a>\u001b[0m \u001b[39m# Write a program to remove characters from a string starting from zero up to n and return a new string.\u001b[39;00m\n\u001b[0;32m----> <a href='vscode-notebook-cell:/home/yash/YVD/Github/100_Days_Python/Notebook/exercise.ipynb#W5sZmlsZQ%3D%3D?line=1'>2</a>\u001b[0m string \u001b[39m=\u001b[39m \u001b[39mstr\u001b[39;49m(\u001b[39minput\u001b[39;49m(\u001b[39m\"\u001b[39;49m\u001b[39mEnter the string\u001b[39;49m\u001b[39m\"\u001b[39;49m))\n\u001b[1;32m      <a href='vscode-notebook-cell:/home/yash/YVD/Github/100_Days_Python/Notebook/exercise.ipynb#W5sZmlsZQ%3D%3D?line=2'>3</a>\u001b[0m chars \u001b[39m=\u001b[39m \u001b[39mint\u001b[39m(\u001b[39minput\u001b[39m(\u001b[39m\"\u001b[39m\u001b[39mEnter the characters \u001b[39m\u001b[39m\"\u001b[39m))\n\u001b[1;32m      <a href='vscode-notebook-cell:/home/yash/YVD/Github/100_Days_Python/Notebook/exercise.ipynb#W5sZmlsZQ%3D%3D?line=4'>5</a>\u001b[0m \u001b[39mdef\u001b[39;00m \u001b[39mremove_chars\u001b[39m(\u001b[39mstr\u001b[39m, char):   \n",
      "\u001b[0;31mTypeError\u001b[0m: 'str' object is not callable"
     ]
    }
   ],
   "source": [
    "# Write a program to remove characters from a string starting from zero up to n and return a new string.\n",
    "string = str(input(\"Enter the string\"))\n",
    "chars = int(input(\"Enter the characters \"))\n",
    "\n",
    "def remove_chars(str, char):   \n",
    "    remove = string[chars:]\n",
    "    return f\"remove characters so output is {remove}\"\n",
    "\n",
    "str = string\n",
    "char = chars\n",
    "i = remove_chars(str, char)\n",
    "print(i)\n"
   ]
  },
  {
   "cell_type": "code",
   "execution_count": 49,
   "metadata": {},
   "outputs": [
    {
     "name": "stdout",
     "output_type": "stream",
     "text": [
      "Remove characters from a string\n",
      "Original stirng pynative\n",
      "tive\n",
      "Original stirng pynative\n",
      "native\n"
     ]
    }
   ],
   "source": [
    "def remove_chars(word, n):\n",
    "    print('Original stirng', word)\n",
    "    x = word[n:]\n",
    "    return x\n",
    "\n",
    "print(\"Remove characters from a string\")\n",
    "print(remove_chars(\"pynative\", 4))\n",
    "print(remove_chars(\"pynative\", 2))"
   ]
  },
  {
   "cell_type": "code",
   "execution_count": 56,
   "metadata": {},
   "outputs": [
    {
     "name": "stdout",
     "output_type": "stream",
     "text": [
      "Given list:  [10, 20, 30, 40, 10]\n",
      "result is True\n",
      "Given list:  [75, 65, 35, 75, 30]\n",
      "result is False\n",
      "None\n"
     ]
    }
   ],
   "source": [
    "# Write a function to return True if the first and last number of a given list is same. If numbers are different then return False.\n",
    "\n",
    "numbers_x = [10, 20, 30, 40, 10]\n",
    "numbers_y = [75, 65, 35, 75, 30]\n",
    "\n",
    "def last_fist(num1, num2):\n",
    "    print(\"Given list: \",numbers_x)\n",
    "    if numbers_x[0] == numbers_x[-1]:\n",
    "        print(\"result is True\")\n",
    "    else:\n",
    "        print(\"result is False\")\n",
    "\n",
    "    print(\"Given list: \", numbers_y)\n",
    "    if numbers_y[0] == numbers_y[-1]:\n",
    "        print(\"result is True\")\n",
    "    else:\n",
    "        print(\"result is False\")\n",
    "\n",
    "print(last_fist(numbers_x, numbers_y))"
   ]
  },
  {
   "cell_type": "code",
   "execution_count": 64,
   "metadata": {},
   "outputs": [
    {
     "name": "stdout",
     "output_type": "stream",
     "text": [
      "10\n",
      "20\n",
      "55\n",
      "None\n"
     ]
    }
   ],
   "source": [
    "# Display numbers divisible by 5 from a list\n",
    "\n",
    "def divisible_by_five(list):\n",
    "    for i in list:\n",
    "        if i % 5 == 0:\n",
    "            print(i)\n",
    "\n",
    "\n",
    "list = [10, 20, 33, 46, 55]\n",
    "div = divisible_by_five(list)\n",
    "print(div)\n"
   ]
  },
  {
   "cell_type": "code",
   "execution_count": null,
   "metadata": {},
   "outputs": [],
   "source": []
  }
 ],
 "metadata": {
  "kernelspec": {
   "display_name": "Python 3",
   "language": "python",
   "name": "python3"
  },
  "language_info": {
   "codemirror_mode": {
    "name": "ipython",
    "version": 3
   },
   "file_extension": ".py",
   "mimetype": "text/x-python",
   "name": "python",
   "nbconvert_exporter": "python",
   "pygments_lexer": "ipython3",
   "version": "3.12.0"
  }
 },
 "nbformat": 4,
 "nbformat_minor": 2
}
