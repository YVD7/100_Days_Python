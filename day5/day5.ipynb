{
 "cells": [
  {
   "cell_type": "markdown",
   "metadata": {},
   "source": [
    "# Day 5"
   ]
  },
  {
   "cell_type": "markdown",
   "metadata": {},
   "source": [
    "### For loop"
   ]
  },
  {
   "cell_type": "code",
   "execution_count": 15,
   "metadata": {},
   "outputs": [
    {
     "name": "stdout",
     "output_type": "stream",
     "text": [
      "Apple\n",
      "Peach\n",
      "Pear\n",
      "pie\n"
     ]
    }
   ],
   "source": [
    "fruits = [\"Apple\", \"Peach\", \"Pear\"]\n",
    "fruits.append(\"pie\")\n",
    "for fruit in fruits:\n",
    "    print(fruit)"
   ]
  },
  {
   "cell_type": "code",
   "execution_count": 4,
   "metadata": {},
   "outputs": [
    {
     "data": {
      "text/plain": [
       "'Apple'"
      ]
     },
     "execution_count": 4,
     "metadata": {},
     "output_type": "execute_result"
    }
   ],
   "source": [
    "fruits[0]"
   ]
  },
  {
   "cell_type": "code",
   "execution_count": 10,
   "metadata": {},
   "outputs": [
    {
     "data": {
      "text/plain": [
       "'<built-in function next>'"
      ]
     },
     "execution_count": 10,
     "metadata": {},
     "output_type": "execute_result"
    }
   ],
   "source": [
    "fruits\n",
    "str(next)"
   ]
  },
  {
   "cell_type": "markdown",
   "metadata": {},
   "source": [
    "Write a program to see average height of students"
   ]
  },
  {
   "cell_type": "markdown",
   "metadata": {},
   "source": [
    "you have to write at least one for loop"
   ]
  },
  {
   "cell_type": "code",
   "execution_count": 20,
   "metadata": {},
   "outputs": [],
   "source": [
    "heights = [160, 157, 171, 152, 166, 165, 177]\n",
    "\n",
    "for height in heights:\n",
    "    avg_height = sum(heights)//len(heights)\n",
    "    if height == avg_height:\n",
    "        print(height)"
   ]
  },
  {
   "cell_type": "code",
   "execution_count": 22,
   "metadata": {},
   "outputs": [
    {
     "name": "stdout",
     "output_type": "stream",
     "text": [
      "total height: 2330\n",
      "number of students = 5\n",
      "average height = 466\n"
     ]
    }
   ],
   "source": [
    "students_heights = input().split()\n",
    "for n in range(0, len(students_heights)):\n",
    "    students_heights[n] = int(students_heights[n])\n",
    "\n",
    "total_height = 0\n",
    "for height in students_heights:\n",
    "    total_height += height\n",
    "print(f\"total height: {total_height}\")\n",
    "\n",
    "number_of_students = 0\n",
    "for student in students_heights:\n",
    "    number_of_students += 1\n",
    "print(f\"number of students = {number_of_students}\")\n",
    "\n",
    "avg_height = round(total_height / number_of_students)\n",
    "print(f\"average height = {avg_height}\")"
   ]
  },
  {
   "cell_type": "code",
   "execution_count": 1,
   "metadata": {},
   "outputs": [],
   "source": [
    "students_scores = input().split()\n",
    "for n in range(0, len(students_scores)):\n",
    "    students_scores[n] = int(students_scores[n])\n",
    "\n",
    "# You code below this row\n",
    "highest_score = 0\n",
    "for score in students_scores:\n",
    "    if score > highest_score:\n",
    "        highest_score = score\n"
   ]
  },
  {
   "cell_type": "markdown",
   "metadata": {},
   "source": [
    "for loops and range function"
   ]
  },
  {
   "cell_type": "code",
   "execution_count": 6,
   "metadata": {},
   "outputs": [
    {
     "name": "stdout",
     "output_type": "stream",
     "text": [
      "1\n",
      "4\n",
      "7\n",
      "10\n"
     ]
    }
   ],
   "source": [
    "for number in range(1, 11, 3):\n",
    "    print(number)"
   ]
  },
  {
   "cell_type": "code",
   "execution_count": 7,
   "metadata": {},
   "outputs": [
    {
     "name": "stdout",
     "output_type": "stream",
     "text": [
      "5050\n"
     ]
    }
   ],
   "source": [
    "total = 0\n",
    "for number in range(1, 101):\n",
    "    total += number\n",
    "print(total)"
   ]
  },
  {
   "cell_type": "code",
   "execution_count": 1,
   "metadata": {},
   "outputs": [
    {
     "name": "stdout",
     "output_type": "stream",
     "text": [
      "2550\n"
     ]
    }
   ],
   "source": [
    "target = int(input()) # Number between 0 and 1000\n",
    "# Your code here\n",
    "even_sum = 0\n",
    "for number in range(2, target + 1, 2):\n",
    "    even_sum += number\n",
    "print(even_sum)"
   ]
  },
  {
   "cell_type": "code",
   "execution_count": 2,
   "metadata": {},
   "outputs": [
    {
     "name": "stdout",
     "output_type": "stream",
     "text": [
      "1\n",
      "2\n",
      "Fizz\n",
      "4\n",
      "Buzz\n",
      "Fizz\n",
      "7\n",
      "8\n",
      "Fizz\n",
      "Buzz\n",
      "11\n",
      "Fizz\n",
      "13\n",
      "14\n",
      "FizzBuzz\n",
      "16\n",
      "17\n",
      "Fizz\n",
      "19\n",
      "Buzz\n",
      "Fizz\n",
      "22\n",
      "23\n",
      "Fizz\n",
      "Buzz\n",
      "26\n",
      "Fizz\n",
      "28\n",
      "29\n",
      "FizzBuzz\n",
      "31\n",
      "32\n",
      "Fizz\n",
      "34\n",
      "Buzz\n",
      "Fizz\n",
      "37\n",
      "38\n",
      "Fizz\n",
      "Buzz\n",
      "41\n",
      "Fizz\n",
      "43\n",
      "44\n",
      "FizzBuzz\n",
      "46\n",
      "47\n",
      "Fizz\n",
      "49\n",
      "Buzz\n",
      "Fizz\n",
      "52\n",
      "53\n",
      "Fizz\n",
      "Buzz\n",
      "56\n",
      "Fizz\n",
      "58\n",
      "59\n",
      "FizzBuzz\n",
      "61\n",
      "62\n",
      "Fizz\n",
      "64\n",
      "Buzz\n",
      "Fizz\n",
      "67\n",
      "68\n",
      "Fizz\n",
      "Buzz\n",
      "71\n",
      "Fizz\n",
      "73\n",
      "74\n",
      "FizzBuzz\n",
      "76\n",
      "77\n",
      "Fizz\n",
      "79\n",
      "Buzz\n",
      "Fizz\n",
      "82\n",
      "83\n",
      "Fizz\n",
      "Buzz\n",
      "86\n",
      "Fizz\n",
      "88\n",
      "89\n",
      "FizzBuzz\n",
      "91\n",
      "92\n",
      "Fizz\n",
      "94\n",
      "Buzz\n",
      "Fizz\n",
      "97\n",
      "98\n",
      "Fizz\n",
      "Buzz\n"
     ]
    }
   ],
   "source": [
    "target = 100\n",
    "for number in range(1, target + 1):\n",
    "    if number % 3 == 0 and number % 5 == 0:\n",
    "        print(\"FizzBuzz\")\n",
    "    elif number % 3 == 0:\n",
    "        print(\"Fizz\")\n",
    "    elif number % 5 == 0:\n",
    "        print(\"Buzz\")\n",
    "    else:\n",
    "        print(number)"
   ]
  },
  {
   "cell_type": "code",
   "execution_count": 1,
   "metadata": {},
   "outputs": [],
   "source": [
    "letters = ['A', 'B', 'C', 'D', 'E', 'F', 'G', 'H', 'I', 'J','K','L','M','N','O', 'P','Q','R', 'S','T','U','V','W','X','Y','Z']\n",
    "numbers = ['0','1','2','3','4','5','6','7','8','9']\n",
    "symbols = ['!','@','#','$','%','^','&','*','(',')','+']\n"
   ]
  },
  {
   "cell_type": "code",
   "execution_count": 8,
   "metadata": {},
   "outputs": [
    {
     "name": "stdout",
     "output_type": "stream",
     "text": [
      "Welcome to the PyPasswd Generator\n",
      "O\n",
      "OS\n",
      "OSO\n",
      "OSOP\n",
      "OSOP4\n",
      "OSOP40\n",
      "OSOP405\n",
      "OSOP405^\n",
      "OSOP405^#\n",
      "OSOP405^#%\n",
      "OSOP405^#%&\n",
      "OSOP405^#%&#\n",
      "OSOP405^#%&#+\n",
      "OSOP405^#%&#+%\n",
      "OSOP405^#%&#+%*\n",
      "OSOP405^#%&#+%*!\n",
      "OSOP405^#%&#+%*!+\n",
      "OSOP405^#%&#+%*!++\n",
      "OSOP405^#%&#+%*!++@\n",
      "OSOP405^#%&#+%*!++@#\n",
      "OSOP405^#%&#+%*!++@#)\n",
      "OSOP405^#%&#+%*!++@#)(\n",
      "OSOP405^#%&#+%*!++@#)(!\n",
      "OSOP405^#%&#+%*!++@#)(!$\n",
      "OSOP405^#%&#+%*!++@#)(!$+\n",
      "OSOP405^#%&#+%*!++@#)(!$+#\n",
      "OSOP405^#%&#+%*!++@#)(!$+#*\n",
      "OSOP405^#%&#+%*!++@#)(!$+#*#\n",
      "OSOP405^#%&#+%*!++@#)(!$+#*#@\n",
      "OSOP405^#%&#+%*!++@#)(!$+#*#@*\n",
      "OSOP405^#%&#+%*!++@#)(!$+#*#@**\n",
      "OSOP405^#%&#+%*!++@#)(!$+#*#@**#\n",
      "OSOP405^#%&#+%*!++@#)(!$+#*#@**#$\n",
      "OSOP405^#%&#+%*!++@#)(!$+#*#@**#$@\n",
      "OSOP405^#%&#+%*!++@#)(!$+#*#@**#$@^\n",
      "OSOP405^#%&#+%*!++@#)(!$+#*#@**#$@^+\n",
      "OSOP405^#%&#+%*!++@#)(!$+#*#@**#$@^+#\n",
      "OSOP405^#%&#+%*!++@#)(!$+#*#@**#$@^+#&\n",
      "OSOP405^#%&#+%*!++@#)(!$+#*#@**#$@^+#&#\n",
      "OSOP405^#%&#+%*!++@#)(!$+#*#@**#$@^+#&#\n"
     ]
    }
   ],
   "source": [
    "print(\"Welcome to the PyPasswd Generator\")\n",
    "nr_letters = int(input(\"How many letters would you like in your passward?\\n\"))\n",
    "nr_symbols = int(input(f\"How many symbols would you like?\\n\"))\n",
    "nr_numbers = int(input(f\"How many numbers would you like?\\n\"))\n",
    "\n",
    "passwd = \"\"\n",
    "\n",
    "import random\n",
    "\n",
    "for char in range(1, nr_letters + 1):\n",
    "    chr_choice = random.choice(letters)\n",
    "    passwd += chr_choice\n",
    "    print(passwd)\n",
    "\n",
    "for char in range(1, nr_numbers + 1):\n",
    "    chr_choice = random.choice(numbers)\n",
    "    passwd += chr_choice\n",
    "    print(passwd)\n",
    "\n",
    "for char in range(1, nr_symbols + 1):\n",
    "    chr_choice = random.choice(symbols)\n",
    "    passwd += chr_choice\n",
    "    print(passwd)\n",
    "\n",
    "print(passwd)"
   ]
  },
  {
   "cell_type": "code",
   "execution_count": 14,
   "metadata": {},
   "outputs": [
    {
     "name": "stdout",
     "output_type": "stream",
     "text": [
      "Welcome to the PyPasswd Generator\n",
      "['@', '(', '5', '!', '6', 'J', 'N', '&', '1', '^', '8', 'D', 'Z', '9', '4']\n",
      "Your passward: @(5!6JN&1^8DZ94\n"
     ]
    }
   ],
   "source": [
    "print(\"Welcome to the PyPasswd Generator\")\n",
    "nr_letters = int(input(\"How many letters would you like in your passward?\\n\"))\n",
    "nr_symbols = int(input(f\"How many symbols would you like?\\n\"))\n",
    "nr_numbers = int(input(f\"How many numbers would you like?\\n\"))\n",
    "\n",
    "passwd_list = []\n",
    "\n",
    "import random\n",
    "\n",
    "for char in range(1, nr_letters + 1):\n",
    "    chr_choice = random.choice(letters)\n",
    "    passwd_list += chr_choice\n",
    "\n",
    "for char in range(1, nr_numbers + 1):\n",
    "    chr_choice = random.choice(numbers)\n",
    "    passwd_list += chr_choice\n",
    "\n",
    "for char in range(1, nr_symbols + 1):\n",
    "    chr_choice = random.choice(symbols)\n",
    "    passwd_list += chr_choice\n",
    "\n",
    "random.shuffle(passwd_list)\n",
    "print(passwd_list)\n",
    "\n",
    "passwd_str = \"\"\n",
    "\n",
    "for char in passwd_list:\n",
    "    passwd_str += char\n",
    "\n",
    "print(f\"Your passward: {passwd_str}\")"
   ]
  },
  {
   "cell_type": "code",
   "execution_count": null,
   "metadata": {},
   "outputs": [],
   "source": []
  }
 ],
 "metadata": {
  "kernelspec": {
   "display_name": "venv",
   "language": "python",
   "name": "python3"
  },
  "language_info": {
   "codemirror_mode": {
    "name": "ipython",
    "version": 3
   },
   "file_extension": ".py",
   "mimetype": "text/x-python",
   "name": "python",
   "nbconvert_exporter": "python",
   "pygments_lexer": "ipython3",
   "version": "3.11.6"
  }
 },
 "nbformat": 4,
 "nbformat_minor": 2
}
