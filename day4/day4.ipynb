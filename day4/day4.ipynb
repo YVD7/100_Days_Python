{
 "cells": [
  {
   "cell_type": "markdown",
   "metadata": {},
   "source": [
    "# Day 4\n",
    "Randomization and Python List"
   ]
  },
  {
   "cell_type": "code",
   "execution_count": 8,
   "metadata": {},
   "outputs": [
    {
     "name": "stdout",
     "output_type": "stream",
     "text": [
      "10\n",
      "3.14159246\n",
      "0.1612220432734497\n",
      "You score is 77\n"
     ]
    }
   ],
   "source": [
    "import random\n",
    "import my_module\n",
    "\n",
    "random_integer = random.randint(1, 10)\n",
    "print(random_integer)\n",
    "print(my_module.pi)\n",
    "random_float = random.random()\n",
    "print(random_float)\n",
    "\n",
    "u_scroe = random.randint(1, 100)\n",
    "print(f\"You score is {u_scroe}\")"
   ]
  },
  {
   "cell_type": "code",
   "execution_count": 3,
   "metadata": {},
   "outputs": [],
   "source": [
    "with open('my_module.py', \"w\") as f:\n",
    "    f.write(\"pi = 3.14159246\")\n",
    "    f.close()"
   ]
  },
  {
   "cell_type": "markdown",
   "metadata": {},
   "source": [
    "Head or Tail"
   ]
  },
  {
   "cell_type": "code",
   "execution_count": 13,
   "metadata": {},
   "outputs": [
    {
     "name": "stdout",
     "output_type": "stream",
     "text": [
      "Tail\n"
     ]
    }
   ],
   "source": [
    "import random\n",
    "\n",
    "random_side = random.randint(0, 1)\n",
    "if random_side == 1:\n",
    "    print(\"Head\")\n",
    "else:\n",
    "    print(\"Tail\")"
   ]
  },
  {
   "cell_type": "markdown",
   "metadata": {},
   "source": [
    "Understading the offset and appending items to lists"
   ]
  },
  {
   "cell_type": "code",
   "execution_count": 14,
   "metadata": {},
   "outputs": [
    {
     "name": "stdout",
     "output_type": "stream",
     "text": [
      "['Alabama', 'Alaska', 'Arizona', 'Arkansas', 'California', 'Colorado', 'Connecticut', 'Delaware', 'Florida', 'Georgia', 'Hawaii', 'Idaho', 'Illinois', 'Indiana', 'Iowa', 'Kansas', 'Kentucky', 'Louisiana', 'Maine', 'Maryland', 'Massachusetts', 'Michigan', 'Minnesota', 'Mississippi', 'Missouri', 'Montana', 'Nebraska', 'Nevada', 'New Hampshire', 'New Jersey', 'New Mexico', 'New York', 'North Carolina', 'North Dakota', 'Ohio', 'Oklahoma', 'Oregon', 'Pennsylvania', 'Rhode Island', 'South Carolina', 'South Dakota', 'Tennessee', 'Texas', 'Utah', 'Vermont', 'Virginia', 'Washington', 'West Virginia', 'Wisconsin', 'Wyoming']\n"
     ]
    }
   ],
   "source": [
    "american_states = [\n",
    "    \"Alabama\",\n",
    "    \"Alaska\",\n",
    "    \"Arizona\",\n",
    "    \"Arkansas\",\n",
    "    \"California\",\n",
    "    \"Colorado\",\n",
    "    \"Connecticut\",\n",
    "    \"Delaware\",\n",
    "    \"Florida\",\n",
    "    \"Georgia\",\n",
    "    \"Hawaii\",\n",
    "    \"Idaho\",\n",
    "    \"Illinois\",\n",
    "    \"Indiana\",\n",
    "    \"Iowa\",\n",
    "    \"Kansas\",\n",
    "    \"Kentucky\",\n",
    "    \"Louisiana\",\n",
    "    \"Maine\",\n",
    "    \"Maryland\",\n",
    "    \"Massachusetts\",\n",
    "    \"Michigan\",\n",
    "    \"Minnesota\",\n",
    "    \"Mississippi\",\n",
    "    \"Missouri\",\n",
    "    \"Montana\",\n",
    "    \"Nebraska\",\n",
    "    \"Nevada\",\n",
    "    \"New Hampshire\",\n",
    "    \"New Jersey\",\n",
    "    \"New Mexico\",\n",
    "    \"New York\",\n",
    "    \"North Carolina\",\n",
    "    \"North Dakota\",\n",
    "    \"Ohio\",\n",
    "    \"Oklahoma\",\n",
    "    \"Oregon\",\n",
    "    \"Pennsylvania\",\n",
    "    \"Rhode Island\",\n",
    "    \"South Carolina\",\n",
    "    \"South Dakota\",\n",
    "    \"Tennessee\",\n",
    "    \"Texas\",\n",
    "    \"Utah\",\n",
    "    \"Vermont\",\n",
    "    \"Virginia\",\n",
    "    \"Washington\",\n",
    "    \"West Virginia\",\n",
    "    \"Wisconsin\",\n",
    "    \"Wyoming\"\n",
    "]\n",
    "\n",
    "# Print the list of American states\n",
    "print(american_states)\n"
   ]
  },
  {
   "cell_type": "code",
   "execution_count": 15,
   "metadata": {},
   "outputs": [],
   "source": [
    "states_of_america = american_states"
   ]
  },
  {
   "cell_type": "code",
   "execution_count": 16,
   "metadata": {},
   "outputs": [
    {
     "name": "stdout",
     "output_type": "stream",
     "text": [
      "Alabama\n"
     ]
    }
   ],
   "source": [
    "print(states_of_america[0])"
   ]
  },
  {
   "cell_type": "code",
   "execution_count": 27,
   "metadata": {},
   "outputs": [
    {
     "data": {
      "text/plain": [
       "'Wyoming'"
      ]
     },
     "execution_count": 27,
     "metadata": {},
     "output_type": "execute_result"
    }
   ],
   "source": [
    "states_of_america[49]"
   ]
  },
  {
   "cell_type": "code",
   "execution_count": 28,
   "metadata": {},
   "outputs": [
    {
     "name": "stdout",
     "output_type": "stream",
     "text": [
      "[['Strawberies', 'Nectarines', 'Apples', 'Grapes', 'Peaches', 'Cherries', 'Pears'], ['Spinach', 'Kale', 'Tomatoes', 'Celery', 'Potatoes']]\n"
     ]
    }
   ],
   "source": [
    "fruites = [\"Strawberies\", \"Nectarines\", \"Apples\", \"Grapes\", \"Peaches\", \"Cherries\", \"Pears\"]\n",
    "vegetables = [\"Spinach\", \"Kale\", \"Tomatoes\", \"Celery\", \"Potatoes\"]\n",
    "\n",
    "dirty_dozen = [fruites, vegetables]\n",
    "\n",
    "print(dirty_dozen)"
   ]
  },
  {
   "cell_type": "markdown",
   "metadata": {},
   "source": [
    "Rock Paper Scissors"
   ]
  },
  {
   "cell_type": "code",
   "execution_count": 18,
   "metadata": {},
   "outputs": [
    {
     "name": "stdout",
     "output_type": "stream",
     "text": [
      "  \n",
      "    _______\n",
      "---'   ____)____  \n",
      "          ______)  \n",
      "          _______)  \n",
      "         _______)\n",
      "---.__________)  \n",
      "\n",
      "Computer chose : \n",
      "  \n",
      "    _______\n",
      "---'   ____)  \n",
      "      (_____)  \n",
      "      (_____)  \n",
      "      (____)\n",
      "---.__(___)  \n",
      "\n",
      "You win!\n"
     ]
    }
   ],
   "source": [
    "# ASCII Arts for rock, paper, and scissors by Veronica Karlsson\n",
    "\n",
    "rock = '''  \n",
    "    _______\n",
    "---'   ____)  \n",
    "      (_____)  \n",
    "      (_____)  \n",
    "      (____)\n",
    "---.__(___)  \n",
    "'''\n",
    "\n",
    "paper = '''  \n",
    "    _______\n",
    "---'   ____)____  \n",
    "          ______)  \n",
    "          _______)  \n",
    "         _______)\n",
    "---.__________)  \n",
    "'''\n",
    "\n",
    "scissors = '''  \n",
    "    _______\n",
    "---'   ____)____  \n",
    "          ______)  \n",
    "       __________)  \n",
    "      (____)\n",
    "---.__(___)  \n",
    "'''  \n",
    "import random\n",
    "\n",
    "game_images = [rock, paper, scissors]\n",
    "user_choice = int(input(\"What do you choose? Type 0 for rock, 1 for Paper or 2 for Scissors.\\n\"))\n",
    "if user_choice >= 3 or user_choice < 0:\n",
    "    print(\"You type invalid number, You lose\")\n",
    "else:\n",
    "    print(game_images[user_choice])\n",
    "\n",
    "    computer_choice = random.randint(0,2)\n",
    "    print(\"Computer chose : \")\n",
    "    print(game_images[computer_choice])\n",
    "\n",
    "    if user_choice == 0 and computer_choice == 2:\n",
    "        print(\"You wins!\")\n",
    "    elif computer_choice == 0 and user_choice == 2:\n",
    "        print(\"You lose!\")\n",
    "    elif computer_choice > user_choice:\n",
    "        print(\"You lose!\")\n",
    "    elif user_choice > computer_choice:\n",
    "        print(\"You win!\")\n",
    "    elif computer_choice == user_choice:\n",
    "        print(\"it's a draw\")\n",
    "    elif user_choice >= 3 or user_choice < 0:\n",
    "        print(\"You type invalid number, You lose\")"
   ]
  },
  {
   "cell_type": "code",
   "execution_count": 4,
   "metadata": {},
   "outputs": [
    {
     "name": "stdout",
     "output_type": "stream",
     "text": [
      "starting game rock paper scissors \n",
      "\n",
      "You loose!\n"
     ]
    }
   ],
   "source": [
    "import random\n",
    "\n",
    "print(\"starting game rock paper scissors \\n\")\n",
    "rock_choice = random.choice(rock)\n",
    "paper_choice = random.choice(paper)\n",
    "scissors_choice = random.choice(scissors)\n",
    "\n",
    "player = input(\"chose rock paper scissor: \")\n",
    "machine = input(\"Machine choice \")\n",
    "\n",
    "if player == rock_choice and machine == scissors_choice:\n",
    "    print(f'player: ', rock)\n",
    "    print(f'Machine: ', scissors)\n",
    "    print(\"You won!\")\n",
    "\n",
    "elif player == paper_choice and machine == rock_choice:\n",
    "    print(f'player: ', paper)\n",
    "    print(f'Machine: ', rock)\n",
    "    print(\"You won!\")\n",
    "\n",
    "elif player == scissors_choice and machine == paper_choice:\n",
    "    print(f'player: ', scissors)\n",
    "    print(f'Machine: ', paper)\n",
    "    print(\"You won!\")\n",
    "else:\n",
    "    print(\"You loose!\")"
   ]
  },
  {
   "cell_type": "code",
   "execution_count": null,
   "metadata": {},
   "outputs": [],
   "source": []
  }
 ],
 "metadata": {
  "kernelspec": {
   "display_name": "venv",
   "language": "python",
   "name": "python3"
  },
  "language_info": {
   "codemirror_mode": {
    "name": "ipython",
    "version": 3
   },
   "file_extension": ".py",
   "mimetype": "text/x-python",
   "name": "python",
   "nbconvert_exporter": "python",
   "pygments_lexer": "ipython3",
   "version": "3.11.6"
  },
  "orig_nbformat": 4
 },
 "nbformat": 4,
 "nbformat_minor": 2
}
